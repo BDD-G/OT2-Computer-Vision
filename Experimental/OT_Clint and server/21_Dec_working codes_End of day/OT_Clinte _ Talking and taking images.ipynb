{
 "cells": [
  {
   "cell_type": "code",
   "execution_count": null,
   "metadata": {},
   "outputs": [],
   "source": []
  },
  {
   "cell_type": "code",
   "execution_count": 9,
   "metadata": {},
   "outputs": [],
   "source": [
    "import socket\n",
    "\n",
    "def request_image_capture():\n",
    "    client_socket = socket.socket(socket.AF_INET, socket.SOCK_STREAM)\n",
    "    host = '172.20.10.4'  # Replace with your server's IP address\n",
    "    port = 9999\n",
    "    client_socket.connect((host, port))\n",
    "    print(\"Connected to server.\")\n",
    "    \n",
    "    client_socket.send('capture_image'.encode('utf-8'))\n",
    "    response = client_socket.recv(1024).decode('utf-8')\n",
    "    print(response)\n",
    "    client_socket.close()\n",
    "\n",
    "def shutdown_server():\n",
    "    client_socket = socket.socket(socket.AF_INET, socket.SOCK_STREAM)\n",
    "    host = '172.20.10.4'  # Replace with your server's IP address\n",
    "    port = 9999\n",
    "    client_socket.connect((host, port))\n",
    "    print(\"Connected to server.\")\n",
    "    \n",
    "    client_socket.send('shutdown_server'.encode('utf-8'))\n",
    "    client_socket.close()\n",
    "    print(\"Sent shutdown signal to server.\")\n"
   ]
  },
  {
   "cell_type": "code",
   "execution_count": 15,
   "metadata": {},
   "outputs": [
    {
     "name": "stderr",
     "output_type": "stream",
     "text": [
      "Out of bounds move: X=(418.00000000000006 motor controller, 416.61520744316886 deck) too high for limit 418.0\n",
      "Out of bounds move: X=(418.00000000000006 motor controller, 416.61520744316886 deck) too high for limit 418.0\n",
      "Out of bounds move: X=(418.00000000000006 motor controller, 416.61520744316886 deck) too high for limit 418.0\n"
     ]
    },
    {
     "name": "stdout",
     "output_type": "stream",
     "text": [
      "Robot initialized, lights on, and homed.\n",
      "Starting loop 1\n",
      "Picked up tips.\n",
      "Aspirated 150ul.\n",
      "Moved to position 6.\n",
      "Connected to server.\n",
      "HD Image captured: default_project_20231221194005_hd.jpg\n",
      "Held position for 2 seconds.\n",
      "Dispensed 20ul back to reservoir.\n",
      "Dropped the tips back.\n",
      "\n",
      "Starting loop 2\n",
      "Picked up tips.\n",
      "Aspirated 150ul.\n",
      "Moved to position 6.\n",
      "Connected to server.\n",
      "HD Image captured: default_project_20231221194034_hd.jpg\n",
      "Held position for 2 seconds.\n",
      "Dispensed 20ul back to reservoir.\n",
      "Dropped the tips back.\n",
      "\n",
      "Connected to server.\n",
      "Sent shutdown signal to server.\n",
      "Process completed. Lights turned off, and arm returned to home.\n",
      "\n",
      "\n"
     ]
    }
   ],
   "source": [
    "import opentrons.execute\n",
    "from opentrons import protocol_api, types\n",
    "\n",
    "## insures that robot is correctly initialized\n",
    "!systemctl stop opentrons-robot-server\n",
    "\n",
    "# Setup parameters\n",
    "reservoir_name = 'nest_1_reservoir_195ml'\n",
    "reservoir_location = 2\n",
    "tiprack_name = 'opentrons_96_tiprack_300ul'\n",
    "tiprack_location = 10\n",
    "pipette_type = 'p300_multi'\n",
    "repeat_times = 2\n",
    "\n",
    "# Protocol initialization\n",
    "protocol = opentrons.execute.get_protocol_api('2.11')\n",
    "\n",
    "# Labware setup\n",
    "reservoir = protocol.load_labware(reservoir_name, reservoir_location)\n",
    "tiprack = protocol.load_labware(tiprack_name, tiprack_location)\n",
    "\n",
    "# Pipette setup\n",
    "pipette = protocol.load_instrument(pipette_type, 'right', tip_racks=[tiprack])\n",
    "\n",
    "# Initialize and home\n",
    "protocol.set_rail_lights(True)\n",
    "protocol.home()\n",
    "pipette.drop_tip()\n",
    "print('Robot initialized, lights on, and homed.')\n",
    "\n",
    "for i in range(repeat_times):  # Loop repeat_times int\n",
    "    print(f'Starting loop {i+1}')\n",
    "    pipette.pick_up_tip(tiprack.wells()[0])  # Pick up tips from the first row\n",
    "    print('Picked up tips.')\n",
    "\n",
    "    pipette.aspirate(150, reservoir.wells()[0])  # Aspirate 20ul from reservoir\n",
    "    print('Aspirated 150ul.')\n",
    "\n",
    "    # Move and hold for 2 seconds\n",
    "    pipette.move_to(protocol.deck.position_for(6).move(types.Point(x=100, y=110, z=130)))\n",
    "    print('Moved to position 6.')\n",
    "    # request_image_capture()\n",
    "    protocol.delay(seconds=2)\n",
    "    print('Held position for 2 seconds.')\n",
    "\n",
    "    # Dispense and return tips\n",
    "    pipette.dispense(150, reservoir.wells()[0])\n",
    "    print('Dispensed 20ul back to reservoir.')\n",
    "    pipette.return_tip()\n",
    "    print('Dropped the tips back.\\n')\n",
    "#protocol.home()\n",
    "pipette.drop_tip()\n",
    "protocol.set_rail_lights(False)\n",
    "#shutdown_server()\n",
    "print('Process completed. Lights turned off, and arm returned to home.\\n\\n')\n"
   ]
  },
  {
   "cell_type": "code",
   "execution_count": 41,
   "metadata": {},
   "outputs": [
    {
     "name": "stdout",
     "output_type": "stream",
     "text": [
      "Connected to server.\n",
      "Sent shutdown signal to server.\n"
     ]
    }
   ],
   "source": [
    "shutdown_server()"
   ]
  },
  {
   "cell_type": "code",
   "execution_count": 45,
   "metadata": {},
   "outputs": [
    {
     "name": "stdout",
     "output_type": "stream",
     "text": [
      "Connected to server.\n",
      "HD Image captured: default_project_20231221175145_hd.jpg\n"
     ]
    }
   ],
   "source": [
    "request_image_capture()"
   ]
  },
  {
   "cell_type": "code",
   "execution_count": null,
   "metadata": {},
   "outputs": [],
   "source": []
  },
  {
   "cell_type": "code",
   "execution_count": null,
   "metadata": {},
   "outputs": [],
   "source": []
  },
  {
   "cell_type": "code",
   "execution_count": null,
   "metadata": {},
   "outputs": [],
   "source": []
  }
 ],
 "metadata": {
  "kernelspec": {
   "display_name": "Python 3 (ipykernel)",
   "language": "python",
   "name": "python3"
  },
  "language_info": {
   "codemirror_mode": {
    "name": "ipython",
    "version": 3
   },
   "file_extension": ".py",
   "mimetype": "text/x-python",
   "name": "python",
   "nbconvert_exporter": "python",
   "pygments_lexer": "ipython3",
   "version": "3.11.5"
  }
 },
 "nbformat": 4,
 "nbformat_minor": 4
}
