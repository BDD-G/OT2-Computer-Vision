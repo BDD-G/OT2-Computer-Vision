{
 "cells": [
  {
   "cell_type": "code",
   "execution_count": 1,
   "id": "b206e7f2",
   "metadata": {},
   "outputs": [],
   "source": [
    "import socket\n",
    "import subprocess\n",
    "import os\n",
    "from datetime import datetime\n",
    "import cv2\n"
   ]
  },
  {
   "cell_type": "code",
   "execution_count": 2,
   "id": "15ed33d4",
   "metadata": {},
   "outputs": [
    {
     "data": {
      "text/plain": [
       "'172.20.10.7'"
      ]
     },
     "execution_count": 2,
     "metadata": {},
     "output_type": "execute_result"
    }
   ],
   "source": [
    "import socket\n",
    "def get_ip_address():\n",
    "    try:\n",
    "        s = socket.socket(socket.AF_INET, socket.SOCK_DGRAM) #creat connection\n",
    "        s.connect((\"8.8.8.8\", 80)) #ping google\n",
    "        ip = s.getsockname()[0] #own ip add.\n",
    "        s.close()\n",
    "        return ip\n",
    "    except Exception as e:\n",
    "        return F\"Could not get IP: {e}\"\n",
    "\n",
    "get_ip_address()"
   ]
  },
  {
   "cell_type": "code",
   "execution_count": 5,
   "id": "7c285b32",
   "metadata": {},
   "outputs": [],
   "source": [
    "def capture_hd_image(project_name=\"default_project\"):\n",
    "    project_folder = os.path.join(os.path.abspath('.'), project_name)\n",
    "    os.makedirs(project_folder, exist_ok=True)\n",
    "    current_time = datetime.now().strftime(\"%Y%m%d%H%M%S\")\n",
    "    image_name = f'{project_name}_{current_time}_hd.jpg'\n",
    "    \n",
    "    # Command to capture an image with FFmpeg\n",
    "    ffmpeg_command = [\n",
    "        'ffmpeg',\n",
    "        '-y',  # Overwrite output files without asking\n",
    "        '-f', 'dshow',  # Input format\n",
    "        '-i', 'video=USB Camera',  # Input device USB Camera, Logitech StreamCam\n",
    "        '-s', '640x480',  # Set frame size 1920x1080\n",
    "        '-frames:v', '1',  # Number of frames to record\n",
    "        '-q:v', '2',  # Quality scale parameter (lower is better for JPEG)\n",
    "        os.path.join(project_folder, image_name)  # Output file\n",
    "    ]\n",
    "\n",
    "    subprocess.check_call(ffmpeg_command)\n",
    "    print(f'HD Image captured: {image_name}')\n",
    "    return f'HD Image captured: {image_name}'\n",
    "\n"
   ]
  },
  {
   "cell_type": "code",
   "execution_count": 6,
   "id": "9a639d52",
   "metadata": {},
   "outputs": [
    {
     "name": "stdout",
     "output_type": "stream",
     "text": [
      "Server started on port 9999\n",
      "Got a connection from ('172.20.10.8', 34292)\n",
      "HD Image captured: default_project_20240123195551_hd.jpg\n",
      "Got a connection from ('172.20.10.8', 34302)\n",
      "HD Image captured: default_project_20240123195622_hd.jpg\n",
      "Got a connection from ('172.20.10.8', 34312)\n",
      "HD Image captured: default_project_20240123195654_hd.jpg\n",
      "Got a connection from ('172.20.10.8', 34322)\n",
      "HD Image captured: default_project_20240123195726_hd.jpg\n",
      "Got a connection from ('172.20.10.8', 34332)\n",
      "HD Image captured: default_project_20240123195757_hd.jpg\n",
      "Got a connection from ('172.20.10.8', 34350)\n",
      "Shutting down server.\n",
      "Server has been shut down.\n"
     ]
    }
   ],
   "source": [
    "def start_server():\n",
    "    server_socket = socket.socket(socket.AF_INET, socket.SOCK_STREAM)\n",
    "    port = 9999\n",
    "    server_socket.bind(('', port))\n",
    "    server_socket.listen(1)\n",
    "    print(f\"Server started on port {port}\")\n",
    "\n",
    "    try:\n",
    "        while True:  # Loop to accept new connections\n",
    "            client_socket, addr = server_socket.accept()\n",
    "            print(f\"Got a connection from {addr}\")\n",
    "            while True:  # Loop to handle commands from a connected client\n",
    "                command = client_socket.recv(1024).decode('utf-8').strip().lower()\n",
    "                if not command:  # Break the loop if the command is empty (client disconnected)\n",
    "                    break\n",
    "                if command == 'capture_image':\n",
    "                    response = capture_hd_image('default_project')\n",
    "                    client_socket.send(response.encode('utf-8'))\n",
    "                elif command == 'shutdown_server':\n",
    "                    print(\"Shutting down server.\")\n",
    "                    return  # Return to exit the outer loop and end the function\n",
    "                else:\n",
    "                    print(f\"Unknown command: {command}\")\n",
    "    except Exception as e:\n",
    "        print(f\"Server error: {e}\")\n",
    "    finally:\n",
    "        server_socket.close()\n",
    "        print(\"Server has been shut down.\")\n",
    "\n",
    "if __name__ == \"__main__\":\n",
    "    start_server()\n"
   ]
  },
  {
   "cell_type": "code",
   "execution_count": null,
   "id": "c6a5e607",
   "metadata": {},
   "outputs": [],
   "source": []
  },
  {
   "cell_type": "code",
   "execution_count": null,
   "id": "f47a7171",
   "metadata": {},
   "outputs": [],
   "source": []
  },
  {
   "cell_type": "code",
   "execution_count": null,
   "id": "ebe01379",
   "metadata": {},
   "outputs": [],
   "source": []
  },
  {
   "cell_type": "code",
   "execution_count": null,
   "id": "2e544644",
   "metadata": {},
   "outputs": [],
   "source": []
  },
  {
   "cell_type": "code",
   "execution_count": null,
   "id": "b46ff057",
   "metadata": {},
   "outputs": [],
   "source": []
  },
  {
   "cell_type": "code",
   "execution_count": null,
   "id": "937f9769",
   "metadata": {},
   "outputs": [],
   "source": []
  },
  {
   "cell_type": "code",
   "execution_count": null,
   "id": "d0fa0e8b",
   "metadata": {},
   "outputs": [],
   "source": []
  },
  {
   "cell_type": "code",
   "execution_count": null,
   "id": "64b6c681",
   "metadata": {},
   "outputs": [],
   "source": []
  },
  {
   "cell_type": "code",
   "execution_count": null,
   "id": "023850ce",
   "metadata": {},
   "outputs": [
    {
     "name": "stdout",
     "output_type": "stream",
     "text": [
      "Server started on port 9999\n",
      "Got a connection from ('172.20.10.8', 46558)\n",
      "HD Image captured: default_project_20240123173226_hd.jpg\n",
      "Got a connection from ('172.20.10.8', 46568)\n",
      "HD Image captured: default_project_20240123173255_hd.jpg\n",
      "Got a connection from ('172.20.10.8', 46578)\n",
      "HD Image captured: default_project_20240123173324_hd.jpg\n",
      "Got a connection from ('172.20.10.8', 46586)\n",
      "HD Image captured: default_project_20240123173354_hd.jpg\n",
      "Got a connection from ('172.20.10.8', 46596)\n",
      "HD Image captured: default_project_20240123173423_hd.jpg\n",
      "Got a connection from ('172.20.10.8', 46606)\n",
      "Shutting down server.\n",
      "Server has been shut down.\n"
     ]
    }
   ],
   "source": [
    "import socket\n",
    "import subprocess\n",
    "import os\n",
    "from datetime import datetime\n",
    "\n",
    "def capture_hd_image(project_name=\"default_project\"):\n",
    "    project_folder = os.path.join(os.path.abspath('.'), project_name)\n",
    "    os.makedirs(project_folder, exist_ok=True)\n",
    "    current_time = datetime.now().strftime(\"%Y%m%d%H%M%S\")\n",
    "    image_name = f'{project_name}_{current_time}_hd.jpg'\n",
    "    \n",
    "    # Command to capture an image with FFmpeg\n",
    "    ffmpeg_command = [\n",
    "        'ffmpeg',\n",
    "        '-y',  # Overwrite output files without asking\n",
    "        '-f', 'dshow',  # Input format\n",
    "        '-i', 'video=USB Camera',  # Input device USB Camera, Logitech StreamCam\n",
    "        '-s', '640x480',  # Set frame size 1920x1080\n",
    "        '-frames:v', '1',  # Number of frames to record\n",
    "        '-q:v', '2',  # Quality scale parameter (lower is better for JPEG)\n",
    "        os.path.join(project_folder, image_name)  # Output file\n",
    "    ]\n",
    "\n",
    "    subprocess.check_call(ffmpeg_command)\n",
    "    print(f'HD Image captured: {image_name}')\n",
    "    return f'HD Image captured: {image_name}'\n",
    "\n",
    "def start_server():\n",
    "    server_socket = socket.socket(socket.AF_INET, socket.SOCK_STREAM)\n",
    "    port = 9999\n",
    "    server_socket.bind(('', port))\n",
    "    server_socket.listen(1)\n",
    "    print(f\"Server started on port {port}\")\n",
    "\n",
    "    try:\n",
    "        while True:  # Loop to accept new connections\n",
    "            client_socket, addr = server_socket.accept()\n",
    "            print(f\"Got a connection from {addr}\")\n",
    "            while True:  # Loop to handle commands from a connected client\n",
    "                command = client_socket.recv(1024).decode('utf-8').strip().lower()\n",
    "                if not command:  # Break the loop if the command is empty (client disconnected)\n",
    "                    break\n",
    "                if command == 'capture_image':\n",
    "                    response = capture_hd_image('default_project')\n",
    "                    client_socket.send(response.encode('utf-8'))\n",
    "                elif command == 'shutdown_server':\n",
    "                    print(\"Shutting down server.\")\n",
    "                    return  # Return to exit the outer loop and end the function\n",
    "                else:\n",
    "                    print(f\"Unknown command: {command}\")\n",
    "    except Exception as e:\n",
    "        print(f\"Server error: {e}\")\n",
    "    finally:\n",
    "        server_socket.close()\n",
    "        print(\"Server has been shut down.\")\n",
    "\n",
    "if __name__ == \"__main__\":\n",
    "    start_server()\n"
   ]
  },
  {
   "cell_type": "code",
   "execution_count": null,
   "id": "d19ccac1",
   "metadata": {},
   "outputs": [],
   "source": []
  },
  {
   "cell_type": "markdown",
   "id": "0c47b5fd",
   "metadata": {},
   "source": [
    "# check time \n"
   ]
  },
  {
   "cell_type": "code",
   "execution_count": null,
   "id": "e8232401",
   "metadata": {},
   "outputs": [],
   "source": [
    "#!pip install opencv-python"
   ]
  },
  {
   "cell_type": "code",
   "execution_count": null,
   "id": "563400fe",
   "metadata": {},
   "outputs": [
    {
     "name": "stdout",
     "output_type": "stream",
     "text": [
      "HD Image captured: default_project_20231221163046_hd.jpg\n",
      "The code took 2.706374168395996 seconds to execute.\n"
     ]
    }
   ],
   "source": [
    "import cv2\n",
    "import os\n",
    "from datetime import datetime\n",
    "import time\n",
    "start_time = time.time()\n",
    "def capture_hd_image(project_name=\"default_project\"):\n",
    "    # Set up the project folder\n",
    "    project_folder = os.path.join(os.path.abspath('.'), project_name)\n",
    "    os.makedirs(project_folder, exist_ok=True)\n",
    "    current_time = datetime.now().strftime(\"%Y%m%d%H%M%S\")\n",
    "    image_name = f'{project_name}_{current_time}_hd.jpg'\n",
    "    image_path = os.path.join(project_folder, image_name)\n",
    "\n",
    "    # Initialize the camera\n",
    "    cap = cv2.VideoCapture(0, cv2.CAP_DSHOW)  # '0' is typically the default camera ID. Adjust if necessary.\n",
    "    cap.set(cv2.CAP_PROP_FRAME_WIDTH, 1920)  # Set the width\n",
    "    cap.set(cv2.CAP_PROP_FRAME_HEIGHT, 1080)  # Set the height\n",
    "    cap.set(cv2.CAP_PROP_FOURCC, cv2.VideoWriter_fourcc(*'MJPG'))  # Set the codec - ensure it's available on your camera\n",
    "    cap.set(cv2.CAP_PROP_AUTOFOCUS, 0)  # Turn off autofocus\n",
    "    \n",
    "    # Capture the image\n",
    "    ret, frame = cap.read()\n",
    "    if ret:\n",
    "        cv2.imwrite(image_path, frame)  # Save the image to the specified path\n",
    "        print(f'HD Image captured: {image_name}')\n",
    "    else:\n",
    "        print(\"Failed to capture image\")\n",
    "\n",
    "    # Release the camera\n",
    "    cap.release()\n",
    "    return image_path\n",
    "\n",
    "# Test the function\n",
    "capture_hd_image('default_project')\n",
    "end_time = time.time()\n",
    "\n",
    "# Calculate the difference\n",
    "elapsed_time = end_time - start_time\n",
    "\n",
    "print(f\"The code took {elapsed_time} seconds to execute.\")"
   ]
  },
  {
   "cell_type": "code",
   "execution_count": null,
   "id": "c3897bbd",
   "metadata": {},
   "outputs": [
    {
     "name": "stdout",
     "output_type": "stream",
     "text": [
      "HD Image captured: default_project_20231221163159_hd.jpg\n",
      "The code took 1.1459541320800781 seconds to execute.\n"
     ]
    }
   ],
   "source": [
    "import time\n",
    "start_time = time.time()\n",
    "def capture_hd_image(project_name=\"default_project\"):\n",
    "    project_folder = os.path.join(os.path.abspath('.'), project_name)\n",
    "    os.makedirs(project_folder, exist_ok=True)\n",
    "    current_time = datetime.now().strftime(\"%Y%m%d%H%M%S\")\n",
    "    image_name = f'{project_name}_{current_time}_hd.jpg'\n",
    "    \n",
    "    # Command to capture an image with FFmpeg\n",
    "    ffmpeg_command = [\n",
    "        'ffmpeg',\n",
    "        '-y',  # Overwrite output files without asking\n",
    "        '-f', 'dshow',  # Input format\n",
    "        '-i', 'video=Logitech StreamCam',  # Input device\n",
    "        '-s', '1920x1080',  # Set frame size\n",
    "        '-frames:v', '1',  # Number of frames to record\n",
    "        '-q:v', '2',  # Quality scale parameter (lower is better for JPEG)\n",
    "        os.path.join(project_folder, image_name)  # Output file\n",
    "    ]\n",
    "\n",
    "    subprocess.check_call(ffmpeg_command)\n",
    "    print(f'HD Image captured: {image_name}')\n",
    "    return f'HD Image captured: {image_name}'\n",
    "capture_hd_image(project_name=\"default_project\")\n",
    "end_time = time.time()\n",
    "\n",
    "# Calculate the difference\n",
    "elapsed_time = end_time - start_time\n",
    "\n",
    "print(f\"The code took {elapsed_time} seconds to execute.\")"
   ]
  },
  {
   "cell_type": "code",
   "execution_count": null,
   "id": "22f112d6",
   "metadata": {},
   "outputs": [],
   "source": []
  },
  {
   "cell_type": "markdown",
   "id": "f4b383a7",
   "metadata": {},
   "source": [
    "### by open CV complete server code"
   ]
  },
  {
   "cell_type": "code",
   "execution_count": null,
   "id": "378e8229",
   "metadata": {},
   "outputs": [
    {
     "name": "stdout",
     "output_type": "stream",
     "text": [
      "HD Image captured: default_project_20231221172228_hd.jpg\n",
      "Server started on port 9999\n",
      "Got a connection from ('172.20.10.6', 44398)\n"
     ]
    }
   ],
   "source": [
    "import socket\n",
    "import subprocess\n",
    "import os\n",
    "import cv2\n",
    "\n",
    "from datetime import datetime\n",
    "def capture_hd_image(project_name=\"default_project\"):\n",
    "    # Set up the project folder\n",
    "    project_folder = os.path.join(os.path.abspath('.'), project_name)\n",
    "    os.makedirs(project_folder, exist_ok=True)\n",
    "    current_time = datetime.now().strftime(\"%Y%m%d%H%M%S\")\n",
    "    image_name = f'{project_name}_{current_time}_hd.jpg'\n",
    "    image_path = os.path.join(project_folder, image_name)\n",
    "\n",
    "    # Initialize the camera\n",
    "    cap = cv2.VideoCapture(0, cv2.CAP_DSHOW)  # '0' is typically the default camera ID. Adjust if necessary.\n",
    "    cap.set(cv2.CAP_PROP_FRAME_WIDTH, 1920)  # Set the width\n",
    "    cap.set(cv2.CAP_PROP_FRAME_HEIGHT, 1080)  # Set the height\n",
    "    cap.set(cv2.CAP_PROP_FOURCC, cv2.VideoWriter_fourcc(*'MJPG'))  # Set the codec - ensure it's available on your camera\n",
    "    cap.set(cv2.CAP_PROP_AUTOFOCUS, 0)  # Turn off autofocus\n",
    "    \n",
    "    # Capture the image\n",
    "    ret, frame = cap.read()\n",
    "    if ret:\n",
    "        cv2.imwrite(image_path, frame)  # Save the image to the specified path\n",
    "        print(f'HD Image captured: {image_name}')\n",
    "    else:\n",
    "        print(\"Failed to capture image\")\n",
    "\n",
    "    # Release the camera\n",
    "    cap.release()\n",
    "    return image_path\n",
    "\n",
    "# Test the function\n",
    "capture_hd_image('default_project')\n",
    "\n",
    "\n",
    "def start_server():\n",
    "    server_socket = socket.socket(socket.AF_INET, socket.SOCK_STREAM)\n",
    "    port = 9999\n",
    "    server_socket.bind(('', port))\n",
    "    server_socket.listen(1)\n",
    "    print(f\"Server started on port {port}\")\n",
    "\n",
    "    try:\n",
    "        while True:  # Loop to accept new connections\n",
    "            client_socket, addr = server_socket.accept()\n",
    "            print(f\"Got a connection from {addr}\")\n",
    "            while True:  # Loop to handle commands from a connected client\n",
    "                command = client_socket.recv(1024).decode('utf-8').strip().lower()\n",
    "                if not command:  # Break the loop if the command is empty (client disconnected)\n",
    "                    break\n",
    "                if command == 'capture_image':\n",
    "                    response = capture_hd_image('default_project')\n",
    "                    client_socket.send(response.encode('utf-8'))\n",
    "                elif command == 'shutdown_server':\n",
    "                    print(\"Shutting down server.\")\n",
    "                    return  # Return to exit the outer loop and end the function\n",
    "                else:\n",
    "                    print(f\"Unknown command: {command}\")\n",
    "    except Exception as e:\n",
    "        print(f\"Server error: {e}\")\n",
    "    finally:\n",
    "        server_socket.close()\n",
    "        print(\"Server has been shut down.\")\n",
    "\n",
    "if __name__ == \"__main__\":\n",
    "    start_server()"
   ]
  },
  {
   "cell_type": "code",
   "execution_count": null,
   "id": "9f733281",
   "metadata": {},
   "outputs": [],
   "source": []
  },
  {
   "cell_type": "markdown",
   "id": "1335a4d4",
   "metadata": {},
   "source": [
    "## using lab camera"
   ]
  },
  {
   "cell_type": "code",
   "execution_count": null,
   "id": "0e949a5d",
   "metadata": {},
   "outputs": [
    {
     "name": "stdout",
     "output_type": "stream",
     "text": [
      "HD Image captured: default_project_20240123171412_hd.jpg\n"
     ]
    },
    {
     "data": {
      "text/plain": [
       "'HD Image captured: default_project_20240123171412_hd.jpg'"
      ]
     },
     "execution_count": 4,
     "metadata": {},
     "output_type": "execute_result"
    }
   ],
   "source": [
    "def capture_hd_image(project_name=\"default_project\"):\n",
    "    project_folder = os.path.join(os.path.abspath('.'), project_name)\n",
    "    os.makedirs(project_folder, exist_ok=True)\n",
    "    current_time = datetime.now().strftime(\"%Y%m%d%H%M%S\")\n",
    "    image_name = f'{project_name}_{current_time}_hd.jpg'\n",
    "    \n",
    "    # Command to capture an image with FFmpeg\n",
    "    ffmpeg_command = [\n",
    "        'ffmpeg',\n",
    "        '-y',  # Overwrite output files without asking\n",
    "        '-f', 'dshow',  # Input format\n",
    "        '-i', 'video=USB Camera',  # Input device\n",
    "        '-s', '640x480',  # Set frame size 1920x1080\n",
    "        '-frames:v', '1',  # Number of frames to record\n",
    "        '-q:v', '2',  # Quality scale parameter (lower is better for JPEG)\n",
    "        os.path.join(project_folder, image_name)  # Output file\n",
    "    ]\n",
    "\n",
    "    subprocess.check_call(ffmpeg_command)\n",
    "    print(f'HD Image captured: {image_name}')\n",
    "    return f'HD Image captured: {image_name}'\n",
    "\n",
    "capture_hd_image(project_name=\"default_project\")"
   ]
  },
  {
   "cell_type": "code",
   "execution_count": null,
   "id": "3182cdde",
   "metadata": {},
   "outputs": [
    {
     "name": "stderr",
     "output_type": "stream",
     "text": [
      "ffmpeg version N-113391-ga47072d643-20240123 Copyright (c) 2000-2024 the FFmpeg developers\n",
      "  built with gcc 13.2.0 (crosstool-NG 1.25.0.232_c175b21)\n",
      "  configuration: --prefix=/ffbuild/prefix --pkg-config-flags=--static --pkg-config=pkg-config --cross-prefix=x86_64-w64-mingw32- --arch=x86_64 --target-os=mingw32 --enable-gpl --enable-version3 --disable-debug --disable-w32threads --enable-pthreads --enable-iconv --enable-libxml2 --enable-zlib --enable-libfreetype --enable-libfribidi --enable-gmp --enable-lzma --enable-fontconfig --enable-libharfbuzz --enable-libvorbis --enable-opencl --disable-libpulse --enable-libvmaf --disable-libxcb --disable-xlib --enable-amf --enable-libaom --enable-libaribb24 --enable-avisynth --enable-chromaprint --enable-libdav1d --enable-libdavs2 --disable-libfdk-aac --enable-ffnvcodec --enable-cuda-llvm --enable-frei0r --enable-libgme --enable-libkvazaar --enable-libaribcaption --enable-libass --enable-libbluray --enable-libjxl --enable-libmp3lame --enable-libopus --enable-librist --enable-libssh --enable-libtheora --enable-libvpx --enable-libwebp --enable-lv2 --enable-libvpl --enable-openal --enable-libopencore-amrnb --enable-libopencore-amrwb --enable-libopenh264 --enable-libopenjpeg --enable-libopenmpt --enable-librav1e --enable-librubberband --enable-schannel --enable-sdl2 --enable-libsoxr --enable-libsrt --enable-libsvtav1 --enable-libtwolame --enable-libuavs3d --disable-libdrm --enable-vaapi --enable-libvidstab --enable-vulkan --enable-libshaderc --enable-libplacebo --enable-libx264 --enable-libx265 --enable-libxavs2 --enable-libxvid --enable-libzimg --enable-libzvbi --extra-cflags=-DLIBTWOLAME_STATIC --extra-cxxflags= --extra-ldflags=-pthread --extra-ldexeflags= --extra-libs=-lgomp --extra-version=20240123\n",
      "  libavutil      58. 36.101 / 58. 36.101\n",
      "  libavcodec     60. 37.100 / 60. 37.100\n",
      "  libavformat    60. 20.100 / 60. 20.100\n",
      "  libavdevice    60.  4.100 / 60.  4.100\n",
      "  libavfilter     9. 17.100 /  9. 17.100\n",
      "  libswscale      7.  6.100 /  7.  6.100\n",
      "  libswresample   4. 13.100 /  4. 13.100\n",
      "  libpostproc    57.  4.100 / 57.  4.100\n",
      "[dshow @ 000001f3fae705c0] \"HD Pro Webcam C920\" (video)\n",
      "[dshow @ 000001f3fae705c0]   Alternative name \"@device_pnp_\\\\?\\usb#vid_046d&pid_082d&mi_00#6&28b366d9&0&0000#{65e8773d-8f56-11d0-a3b9-00a0c9223196}\\global\"\n",
      "[dshow @ 000001f3fae705c0] \"USB Camera\" (video)\n",
      "[dshow @ 000001f3fae705c0]   Alternative name \"@device_pnp_\\\\?\\usb#vid_0bda&pid_0511&mi_00#7&28ad6b66&0&0000#{65e8773d-8f56-11d0-a3b9-00a0c9223196}\\global\"\n",
      "[dshow @ 000001f3fae705c0] \"OBS Virtual Camera\" (none)\n",
      "[dshow @ 000001f3fae705c0]   Alternative name \"@device_sw_{860BB310-5D01-11D0-BD3B-00A0C911CE86}\\{A3FCE0F5-3493-419F-958A-ABA1250EC20B}\"\n",
      "[dshow @ 000001f3fae705c0] \"GoPro Webcam\" (video)\n",
      "[dshow @ 000001f3fae705c0]   Alternative name \"@device_sw_{860BB310-5D01-11D0-BD3B-00A0C911CE86}\\{FDB60968-EC75-4CF9-BC63-7A2C7FFBF210}\"\n",
      "[dshow @ 000001f3fae705c0] \"Microphone (Realtek USB MIC)\" (audio)\n",
      "[dshow @ 000001f3fae705c0]   Alternative name \"@device_cm_{33D9A762-90C8-11D0-BD43-00A0C911CE86}\\wave_{24F85260-ADAC-4E0C-9944-0DF7BE833347}\"\n",
      "[dshow @ 000001f3fae705c0] \"Microphone (HD Pro Webcam C920)\" (audio)\n",
      "[dshow @ 000001f3fae705c0]   Alternative name \"@device_cm_{33D9A762-90C8-11D0-BD43-00A0C911CE86}\\wave_{CAA83794-C548-41D4-8117-5BD4A2EC3CB1}\"\n",
      "[in#0 @ 000001f3fae9b780] Error opening input: Immediate exit requested\n",
      "Error opening input file dummy.\n"
     ]
    }
   ],
   "source": [
    "#listing all camrea\n",
    "!ffmpeg -list_devices true -f dshow -i dummy"
   ]
  },
  {
   "cell_type": "code",
   "execution_count": null,
   "id": "c4dc93a6",
   "metadata": {},
   "outputs": [
    {
     "name": "stdout",
     "output_type": "stream",
     "text": [
      "HD Image captured: default_project_20240123194622_hd.jpg\n"
     ]
    },
    {
     "data": {
      "text/plain": [
       "'HD Image captured: default_project_20240123194622_hd.jpg'"
      ]
     },
     "execution_count": 16,
     "metadata": {},
     "output_type": "execute_result"
    }
   ],
   "source": [
    "def capture_hd_image(project_name=\"default_project\"):\n",
    "    project_folder = os.path.join(os.path.abspath('.'), project_name)\n",
    "    os.makedirs(project_folder, exist_ok=True)\n",
    "    current_time = datetime.now().strftime(\"%Y%m%d%H%M%S\")\n",
    "    image_name = f'{project_name}_{current_time}_hd.jpg'\n",
    "    \n",
    "    # Command to capture an image with FFmpeg\n",
    "    ffmpeg_command = [\n",
    "        'ffmpeg',\n",
    "        '-y',  # Overwrite output files without asking\n",
    "        '-f', 'dshow',  # Input format\n",
    "        '-i', 'video=HD Pro Webcam C920',#USB Camera',  # Input device USB Camera, Logitech StreamCam\n",
    "        '-s', '640x480',  # Set frame size 1920x1080\n",
    "        '-frames:v', '1',  # Number of frames to record\n",
    "        '-q:v', '2',  # Quality scale parameter (lower is better for JPEG)\n",
    "        os.path.join(project_folder, image_name)  # Output file\n",
    "    ]\n",
    "\n",
    "    subprocess.check_call(ffmpeg_command)\n",
    "    print(f'HD Image captured: {image_name}')\n",
    "    return f'HD Image captured: {image_name}'\n",
    "capture_hd_image(project_name=\"default_project\")"
   ]
  },
  {
   "cell_type": "code",
   "execution_count": null,
   "id": "323a14d0",
   "metadata": {},
   "outputs": [],
   "source": []
  },
  {
   "cell_type": "code",
   "execution_count": null,
   "id": "1af09ba3",
   "metadata": {},
   "outputs": [],
   "source": []
  },
  {
   "cell_type": "code",
   "execution_count": null,
   "id": "c62407db",
   "metadata": {},
   "outputs": [],
   "source": []
  },
  {
   "cell_type": "code",
   "execution_count": null,
   "id": "e8d4cbba",
   "metadata": {},
   "outputs": [],
   "source": []
  },
  {
   "cell_type": "code",
   "execution_count": null,
   "id": "8411566d",
   "metadata": {},
   "outputs": [],
   "source": []
  },
  {
   "cell_type": "code",
   "execution_count": null,
   "id": "bea216f7",
   "metadata": {},
   "outputs": [],
   "source": []
  },
  {
   "cell_type": "code",
   "execution_count": null,
   "id": "69f4297a",
   "metadata": {},
   "outputs": [],
   "source": []
  },
  {
   "cell_type": "code",
   "execution_count": null,
   "id": "5332fdf0",
   "metadata": {},
   "outputs": [],
   "source": []
  },
  {
   "cell_type": "code",
   "execution_count": null,
   "id": "0b239791",
   "metadata": {},
   "outputs": [],
   "source": []
  },
  {
   "cell_type": "code",
   "execution_count": null,
   "id": "f2e16373",
   "metadata": {},
   "outputs": [],
   "source": []
  },
  {
   "cell_type": "code",
   "execution_count": null,
   "id": "a6fc2eb6",
   "metadata": {},
   "outputs": [],
   "source": []
  },
  {
   "cell_type": "code",
   "execution_count": null,
   "id": "0f1c081d",
   "metadata": {},
   "outputs": [],
   "source": [
    "\n",
    "\n",
    "import socket\n",
    "import subprocess\n",
    "import os\n",
    "from datetime import datetime\n",
    "def capture_hd_image(project_name=\"default_project\"):\n",
    "    project_folder = os.path.join(os.path.abspath('.'), project_name)\n",
    "    os.makedirs(project_folder, exist_ok=True)\n",
    "    current_time = datetime.now().strftime(\"%Y%m%d%H%M%S\")\n",
    "    image_name = f'{project_name}_{current_time}_hd.jpg'\n",
    "    \n",
    "    # Command to capture an image with FFmpeg\n",
    "    ffmpeg_command = [\n",
    "        'ffmpeg',\n",
    "        '-y',  # Overwrite output files without asking\n",
    "        '-f', 'dshow',  # Input format\n",
    "        '-i', 'video=USB Camera',  # Input device USB Camera, Logitech StreamCam\n",
    "        '-s', '640x480',  # Set frame size 1920x1080\n",
    "        '-frames:v', '1',  # Number of frames to record\n",
    "        '-q:v', '2',  # Quality scale parameter (lower is better for JPEG)\n",
    "        os.path.join(project_folder, image_name)  # Output file\n",
    "    ]\n",
    "\n",
    "    subprocess.check_call(ffmpeg_command)\n",
    "    print(f'HD Image captured: {image_name}')\n",
    "    return f'HD Image captured: {image_name}'"
   ]
  },
  {
   "cell_type": "code",
   "execution_count": null,
   "id": "b3fb057e",
   "metadata": {},
   "outputs": [
    {
     "name": "stdout",
     "output_type": "stream",
     "text": [
      "HD Image captured: default_project_20240123171157_hd.jpg\n"
     ]
    },
    {
     "data": {
      "text/plain": [
       "'HD Image captured: default_project_20240123171157_hd.jpg'"
      ]
     },
     "execution_count": 2,
     "metadata": {},
     "output_type": "execute_result"
    }
   ],
   "source": [
    "\n",
    "capture_hd_image(project_name=\"default_project\")"
   ]
  },
  {
   "cell_type": "code",
   "execution_count": null,
   "id": "712c9e11",
   "metadata": {},
   "outputs": [],
   "source": [
    "import socket\n",
    "import subprocess\n",
    "import os\n",
    "import cv2\n",
    "\n",
    "from datetime import datetime\n",
    "def capture_hd_image(project_name=\"default_project\"):\n",
    "    # Set up the project folder\n",
    "    project_folder = os.path.join(os.path.abspath('.'), project_name)\n",
    "    os.makedirs(project_folder, exist_ok=True)\n",
    "    current_time = datetime.now().strftime(\"%Y%m%d%H%M%S\")\n",
    "    image_name = f'{project_name}_{current_time}_hd.jpg'\n",
    "    image_path = os.path.join(project_folder, image_name)\n",
    "\n",
    "    # Initialize the camera\n",
    "    cap = cv2.VideoCapture(1, cv2.CAP_DSHOW)  # '0' is typically the default camera ID. Adjust if necessary.\n",
    "    cap.set(cv2.CAP_PROP_FRAME_WIDTH, 1920)  # Set the width\n",
    "    cap.set(cv2.CAP_PROP_FRAME_HEIGHT, 1080)  # Set the height\n",
    "    cap.set(cv2.CAP_PROP_FOURCC, cv2.VideoWriter_fourcc(*'MJPG'))  # Set the codec - ensure it's available on your camera\n",
    "    cap.set(cv2.CAP_PROP_AUTOFOCUS, 0)  # Turn off autofocus\n",
    "    \n",
    "    # Capture the image\n",
    "    ret, frame = cap.read()\n",
    "    if ret:\n",
    "        cv2.imwrite(image_path, frame)  # Save the image to the specified path\n",
    "        print(f'HD Image captured: {image_name}')\n",
    "    else:\n",
    "        print(\"Failed to capture image\")\n",
    "\n",
    "    # Release the camera\n",
    "    cap.release()\n",
    "    return image_path"
   ]
  },
  {
   "cell_type": "code",
   "execution_count": null,
   "id": "13535793",
   "metadata": {},
   "outputs": [
    {
     "name": "stdout",
     "output_type": "stream",
     "text": [
      "HD Image captured: default_project_20240123171721_hd.jpg\n"
     ]
    },
    {
     "data": {
      "text/plain": [
       "'d:\\\\Final Project\\\\OT_Clint and server\\\\21_Dec_working codes_End of day\\\\default_project\\\\default_project_20240123171721_hd.jpg'"
      ]
     },
     "execution_count": 8,
     "metadata": {},
     "output_type": "execute_result"
    }
   ],
   "source": [
    "capture_hd_image(project_name=\"default_project\")"
   ]
  },
  {
   "cell_type": "code",
   "execution_count": null,
   "id": "61cfbb3d",
   "metadata": {},
   "outputs": [],
   "source": []
  },
  {
   "cell_type": "code",
   "execution_count": null,
   "id": "f2de8c6b",
   "metadata": {},
   "outputs": [],
   "source": []
  },
  {
   "cell_type": "code",
   "execution_count": null,
   "id": "b6b3a8db",
   "metadata": {},
   "outputs": [],
   "source": []
  }
 ],
 "metadata": {
  "kernelspec": {
   "display_name": "Python 3 (ipykernel)",
   "language": "python",
   "name": "python3"
  },
  "language_info": {
   "codemirror_mode": {
    "name": "ipython",
    "version": 3
   },
   "file_extension": ".py",
   "mimetype": "text/x-python",
   "name": "python",
   "nbconvert_exporter": "python",
   "pygments_lexer": "ipython3",
   "version": "3.11.5"
  }
 },
 "nbformat": 4,
 "nbformat_minor": 5
}
