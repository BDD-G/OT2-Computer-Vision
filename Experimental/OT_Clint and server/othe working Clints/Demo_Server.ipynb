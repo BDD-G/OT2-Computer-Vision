{
 "cells": [
  {
   "cell_type": "code",
   "execution_count": 3,
   "metadata": {},
   "outputs": [],
   "source": [
    "import cv2\n",
    "import os\n",
    "from datetime import datetime\n",
    "import time\n",
    "import socket\n",
    "import subprocess\n",
    "import Helper\n",
    "import pandas as pd\n",
    "from super_gradients.training import models\n",
    "import numpy as np\n"
   ]
  },
  {
   "cell_type": "code",
   "execution_count": 4,
   "metadata": {},
   "outputs": [
    {
     "data": {
      "text/plain": [
       "'172.20.10.4'"
      ]
     },
     "execution_count": 4,
     "metadata": {},
     "output_type": "execute_result"
    }
   ],
   "source": [
    "import socket\n",
    "def get_ip_address():\n",
    "    try:\n",
    "        s = socket.socket(socket.AF_INET, socket.SOCK_DGRAM) #creat connection\n",
    "        s.connect((\"8.8.8.8\", 80)) #ping google\n",
    "        ip = s.getsockname()[0] #own ip add.\n",
    "        s.close()\n",
    "        return ip\n",
    "    except Exception as e:\n",
    "        return F\"Could not get IP: {e}\"\n",
    "\n",
    "get_ip_address()"
   ]
  },
  {
   "cell_type": "code",
   "execution_count": 5,
   "metadata": {},
   "outputs": [
    {
     "name": "stderr",
     "output_type": "stream",
     "text": [
      "[2024-02-01 12:45:51] INFO - checkpoint_utils.py - Successfully loaded model weights from D:\\Final Code\\Final Project\\Yolo nas\\Dataset\\checkpoints\\tips and liquid\\RUN_20240120_202748_124739\\ckpt_best.pth EMA checkpoint.\n"
     ]
    }
   ],
   "source": [
    "model_path = r\"D:\\Final Code\\Final Project\\Yolo nas\\Dataset\\checkpoints\\tips and liquid\\RUN_20240120_202748_124739\\ckpt_best.pth\"\n",
    "\n",
    "best_model = models.get('yolo_nas_l',\n",
    "                        num_classes=2,\n",
    "                        checkpoint_path=model_path)"
   ]
  },
  {
   "cell_type": "code",
   "execution_count": 7,
   "metadata": {},
   "outputs": [
    {
     "name": "stdout",
     "output_type": "stream",
     "text": [
      "Server started on port 9999\n",
      "Got a connection from ('172.20.10.6', 46938)\n",
      "HD Image captured with locked focus: default_project_20240201124953_hd.jpg\n"
     ]
    },
    {
     "name": "stderr",
     "output_type": "stream",
     "text": [
      "c:\\Users\\thisi\\anaconda3\\envs\\OT2\\lib\\site-packages\\super_gradients\\training\\utils\\media\\image.py:64: UserWarning: It seems you are using predict() with batch input\n",
      "  warnings.warn(\"It seems you are using predict() with batch input\")\n",
      "[2024-02-01 12:49:55] INFO - pipelines.py - Fusing some of the model's layers. If this takes too much memory, you can deactivate it by setting `fuse_model=False`\n"
     ]
    },
    {
     "name": "stdout",
     "output_type": "stream",
     "text": [
      "Got a connection from ('172.20.10.6', 46944)\n",
      "HD Image captured with locked focus: default_project_20240201125004_hd.jpg\n"
     ]
    },
    {
     "name": "stderr",
     "output_type": "stream",
     "text": [
      "[2024-02-01 12:50:06] INFO - pipelines.py - Fusing some of the model's layers. If this takes too much memory, you can deactivate it by setting `fuse_model=False`\n"
     ]
    },
    {
     "name": "stdout",
     "output_type": "stream",
     "text": [
      "Got a connection from ('172.20.10.6', 46950)\n",
      "HD Image captured with locked focus: default_project_20240201125014_hd.jpg\n"
     ]
    },
    {
     "name": "stderr",
     "output_type": "stream",
     "text": [
      "[2024-02-01 12:50:16] INFO - pipelines.py - Fusing some of the model's layers. If this takes too much memory, you can deactivate it by setting `fuse_model=False`\n"
     ]
    },
    {
     "name": "stdout",
     "output_type": "stream",
     "text": [
      "Got a connection from ('172.20.10.6', 46952)\n",
      "HD Image captured with locked focus: default_project_20240201125025_hd.jpg\n"
     ]
    },
    {
     "name": "stderr",
     "output_type": "stream",
     "text": [
      "[2024-02-01 12:50:27] INFO - pipelines.py - Fusing some of the model's layers. If this takes too much memory, you can deactivate it by setting `fuse_model=False`\n"
     ]
    },
    {
     "name": "stdout",
     "output_type": "stream",
     "text": [
      "Got a connection from ('172.20.10.6', 46958)\n",
      "HD Image captured with locked focus: default_project_20240201125036_hd.jpg\n"
     ]
    },
    {
     "name": "stderr",
     "output_type": "stream",
     "text": [
      "[2024-02-01 12:50:38] INFO - pipelines.py - Fusing some of the model's layers. If this takes too much memory, you can deactivate it by setting `fuse_model=False`\n"
     ]
    },
    {
     "name": "stdout",
     "output_type": "stream",
     "text": [
      "Got a connection from ('172.20.10.6', 46964)\n",
      "HD Image captured with locked focus: default_project_20240201125047_hd.jpg\n"
     ]
    },
    {
     "name": "stderr",
     "output_type": "stream",
     "text": [
      "[2024-02-01 12:50:49] INFO - pipelines.py - Fusing some of the model's layers. If this takes too much memory, you can deactivate it by setting `fuse_model=False`\n"
     ]
    },
    {
     "name": "stdout",
     "output_type": "stream",
     "text": [
      "Got a connection from ('172.20.10.6', 46968)\n",
      "HD Image captured with locked focus: default_project_20240201125057_hd.jpg\n"
     ]
    },
    {
     "name": "stderr",
     "output_type": "stream",
     "text": [
      "[2024-02-01 12:50:59] INFO - pipelines.py - Fusing some of the model's layers. If this takes too much memory, you can deactivate it by setting `fuse_model=False`\n"
     ]
    },
    {
     "name": "stdout",
     "output_type": "stream",
     "text": [
      "Got a connection from ('172.20.10.6', 46972)\n",
      "HD Image captured with locked focus: default_project_20240201125108_hd.jpg\n"
     ]
    },
    {
     "name": "stderr",
     "output_type": "stream",
     "text": [
      "[2024-02-01 12:51:10] INFO - pipelines.py - Fusing some of the model's layers. If this takes too much memory, you can deactivate it by setting `fuse_model=False`\n"
     ]
    },
    {
     "name": "stdout",
     "output_type": "stream",
     "text": [
      "Got a connection from ('172.20.10.6', 46978)\n",
      "HD Image captured with locked focus: default_project_20240201125119_hd.jpg\n"
     ]
    },
    {
     "name": "stderr",
     "output_type": "stream",
     "text": [
      "[2024-02-01 12:51:21] INFO - pipelines.py - Fusing some of the model's layers. If this takes too much memory, you can deactivate it by setting `fuse_model=False`\n"
     ]
    },
    {
     "name": "stdout",
     "output_type": "stream",
     "text": [
      "Got a connection from ('172.20.10.6', 46984)\n",
      "HD Image captured with locked focus: default_project_20240201125130_hd.jpg\n"
     ]
    },
    {
     "name": "stderr",
     "output_type": "stream",
     "text": [
      "[2024-02-01 12:51:31] INFO - pipelines.py - Fusing some of the model's layers. If this takes too much memory, you can deactivate it by setting `fuse_model=False`\n"
     ]
    },
    {
     "name": "stdout",
     "output_type": "stream",
     "text": [
      "Got a connection from ('172.20.10.6', 46986)\n",
      "HD Image captured with locked focus: default_project_20240201125140_hd.jpg\n"
     ]
    },
    {
     "name": "stderr",
     "output_type": "stream",
     "text": [
      "[2024-02-01 12:51:42] INFO - pipelines.py - Fusing some of the model's layers. If this takes too much memory, you can deactivate it by setting `fuse_model=False`\n"
     ]
    },
    {
     "name": "stdout",
     "output_type": "stream",
     "text": [
      "Got a connection from ('172.20.10.6', 46992)\n",
      "HD Image captured with locked focus: default_project_20240201125151_hd.jpg\n"
     ]
    },
    {
     "name": "stderr",
     "output_type": "stream",
     "text": [
      "[2024-02-01 12:51:53] INFO - pipelines.py - Fusing some of the model's layers. If this takes too much memory, you can deactivate it by setting `fuse_model=False`\n"
     ]
    },
    {
     "name": "stdout",
     "output_type": "stream",
     "text": [
      "Got a connection from ('172.20.10.6', 46998)\n",
      "HD Image captured with locked focus: default_project_20240201125202_hd.jpg\n"
     ]
    },
    {
     "name": "stderr",
     "output_type": "stream",
     "text": [
      "[2024-02-01 12:52:04] INFO - pipelines.py - Fusing some of the model's layers. If this takes too much memory, you can deactivate it by setting `fuse_model=False`\n"
     ]
    },
    {
     "name": "stdout",
     "output_type": "stream",
     "text": [
      "Got a connection from ('172.20.10.6', 47002)\n",
      "HD Image captured with locked focus: default_project_20240201125213_hd.jpg\n"
     ]
    },
    {
     "name": "stderr",
     "output_type": "stream",
     "text": [
      "[2024-02-01 12:52:15] INFO - pipelines.py - Fusing some of the model's layers. If this takes too much memory, you can deactivate it by setting `fuse_model=False`\n"
     ]
    },
    {
     "name": "stdout",
     "output_type": "stream",
     "text": [
      "Got a connection from ('172.20.10.6', 47006)\n",
      "HD Image captured with locked focus: default_project_20240201125224_hd.jpg\n"
     ]
    },
    {
     "name": "stderr",
     "output_type": "stream",
     "text": [
      "[2024-02-01 12:52:26] INFO - pipelines.py - Fusing some of the model's layers. If this takes too much memory, you can deactivate it by setting `fuse_model=False`\n"
     ]
    },
    {
     "name": "stdout",
     "output_type": "stream",
     "text": [
      "Got a connection from ('172.20.10.6', 47012)\n",
      "HD Image captured with locked focus: default_project_20240201125234_hd.jpg\n"
     ]
    },
    {
     "name": "stderr",
     "output_type": "stream",
     "text": [
      "[2024-02-01 12:52:36] INFO - pipelines.py - Fusing some of the model's layers. If this takes too much memory, you can deactivate it by setting `fuse_model=False`\n"
     ]
    },
    {
     "name": "stdout",
     "output_type": "stream",
     "text": [
      "Got a connection from ('172.20.10.6', 47018)\n",
      "HD Image captured with locked focus: default_project_20240201125245_hd.jpg\n"
     ]
    },
    {
     "name": "stderr",
     "output_type": "stream",
     "text": [
      "[2024-02-01 12:52:47] INFO - pipelines.py - Fusing some of the model's layers. If this takes too much memory, you can deactivate it by setting `fuse_model=False`\n"
     ]
    },
    {
     "name": "stdout",
     "output_type": "stream",
     "text": [
      "Got a connection from ('172.20.10.6', 47022)\n",
      "HD Image captured with locked focus: default_project_20240201125256_hd.jpg\n"
     ]
    },
    {
     "name": "stderr",
     "output_type": "stream",
     "text": [
      "[2024-02-01 12:52:58] INFO - pipelines.py - Fusing some of the model's layers. If this takes too much memory, you can deactivate it by setting `fuse_model=False`\n"
     ]
    },
    {
     "name": "stdout",
     "output_type": "stream",
     "text": [
      "Got a connection from ('172.20.10.6', 47026)\n",
      "HD Image captured with locked focus: default_project_20240201125307_hd.jpg\n"
     ]
    },
    {
     "name": "stderr",
     "output_type": "stream",
     "text": [
      "[2024-02-01 12:53:09] INFO - pipelines.py - Fusing some of the model's layers. If this takes too much memory, you can deactivate it by setting `fuse_model=False`\n"
     ]
    },
    {
     "name": "stdout",
     "output_type": "stream",
     "text": [
      "Got a connection from ('172.20.10.6', 47032)\n",
      "HD Image captured with locked focus: default_project_20240201125318_hd.jpg\n"
     ]
    },
    {
     "name": "stderr",
     "output_type": "stream",
     "text": [
      "[2024-02-01 12:53:20] INFO - pipelines.py - Fusing some of the model's layers. If this takes too much memory, you can deactivate it by setting `fuse_model=False`\n"
     ]
    },
    {
     "name": "stdout",
     "output_type": "stream",
     "text": [
      "Got a connection from ('172.20.10.6', 47036)\n",
      "HD Image captured with locked focus: default_project_20240201125329_hd.jpg\n"
     ]
    },
    {
     "name": "stderr",
     "output_type": "stream",
     "text": [
      "[2024-02-01 12:53:31] INFO - pipelines.py - Fusing some of the model's layers. If this takes too much memory, you can deactivate it by setting `fuse_model=False`\n"
     ]
    },
    {
     "name": "stdout",
     "output_type": "stream",
     "text": [
      "Got a connection from ('172.20.10.6', 47040)\n",
      "HD Image captured with locked focus: default_project_20240201125340_hd.jpg\n"
     ]
    },
    {
     "name": "stderr",
     "output_type": "stream",
     "text": [
      "[2024-02-01 12:53:42] INFO - pipelines.py - Fusing some of the model's layers. If this takes too much memory, you can deactivate it by setting `fuse_model=False`\n"
     ]
    },
    {
     "name": "stdout",
     "output_type": "stream",
     "text": [
      "Got a connection from ('172.20.10.6', 47046)\n",
      "HD Image captured with locked focus: default_project_20240201125351_hd.jpg\n"
     ]
    },
    {
     "name": "stderr",
     "output_type": "stream",
     "text": [
      "[2024-02-01 12:53:53] INFO - pipelines.py - Fusing some of the model's layers. If this takes too much memory, you can deactivate it by setting `fuse_model=False`\n"
     ]
    },
    {
     "name": "stdout",
     "output_type": "stream",
     "text": [
      "Got a connection from ('172.20.10.6', 47052)\n",
      "HD Image captured with locked focus: default_project_20240201125402_hd.jpg\n"
     ]
    },
    {
     "name": "stderr",
     "output_type": "stream",
     "text": [
      "[2024-02-01 12:54:04] INFO - pipelines.py - Fusing some of the model's layers. If this takes too much memory, you can deactivate it by setting `fuse_model=False`\n"
     ]
    },
    {
     "name": "stdout",
     "output_type": "stream",
     "text": [
      "Got a connection from ('172.20.10.6', 47058)\n",
      "Shutting down server.\n",
      "Server has been shut down.\n"
     ]
    }
   ],
   "source": [
    "def start_server():\n",
    "    keys = ['Tip1', 'Tip2', 'Tip3', 'Tip4', 'Tip5', 'Tip6', 'Tip7', 'Tip8']\n",
    "    Tips_check = {key: [] for key in keys}\n",
    "    Liquid_check = {key: [] for key in keys}\n",
    "    Tips_volume = {key: [] for key in keys}\n",
    "\n",
    "    keys2 = ['Tips_Count', 'Liquid_Count']\n",
    "    counts_data = {key: [] for key in keys2}\n",
    "\n",
    "    server_socket = socket.socket(socket.AF_INET, socket.SOCK_STREAM)\n",
    "    port = 9999\n",
    "    server_socket.bind(('', port))\n",
    "    server_socket.listen(1)\n",
    "    print(f\"Server started on port {port}\")\n",
    "\n",
    "    try:\n",
    "        while True:  # Loop to accept new connections\n",
    "            client_socket, addr = server_socket.accept()\n",
    "            print(f\"Got a connection from {addr}\")\n",
    "            while True:  # Loop to handle commands from a connected client\n",
    "                command = client_socket.recv(1024).decode('utf-8').strip().lower()\n",
    "                if not command:  # Break the loop if the command is empty (client disconnected)\n",
    "                    break\n",
    "                if command == 'capture_image':\n",
    "                    response = Helper.capture_hd_image_with_lock('default_project')\n",
    "                    client_socket.send(response.encode('utf-8'))\n",
    "\n",
    "                    predictions = best_model.predict([response], conf=0.7)\n",
    "                    Helper.save_predictions(predictions, output_folder=\"output_predictions\")\n",
    "\n",
    "                    class_counts, bounding_boxes, bounding_box_centers, liquid_height_percentages = Helper.process_predictions(predictions)\n",
    "                    tip_presence, missing_tip_positions = Helper.find_missing_tips(bounding_box_centers)\n",
    "\n",
    "                    liquid_values = liquid_height_percentages['Liquid']\n",
    "                    tip_index = 0\n",
    "\n",
    "                    # Iterate through the 'Liquid' values and assign to 'Tips_volume' based on 'tip_presence'\n",
    "                    for i, presence in enumerate(tip_presence):\n",
    "                        tip_key = f'Tip{i + 1}'\n",
    "                        if presence == 1:\n",
    "                            Tips_volume[tip_key].append(liquid_values[tip_index])\n",
    "                            tip_index += 1\n",
    "                        else:\n",
    "                            Tips_volume[tip_key].append(0)\n",
    "\n",
    "                    counts_data['Tips_Count'].append(class_counts['Tip'])\n",
    "                    counts_data['Liquid_Count'].append(class_counts['Liquid'])\n",
    "\n",
    "                    for i, presence in enumerate(tip_presence):\n",
    "                        tip_key = f'Tip{i + 1}'\n",
    "                        if presence == 1:\n",
    "                            Tips_check[tip_key].append(\"Attached\")\n",
    "                        else:\n",
    "                            Tips_check[tip_key].append(\"MISSING\")\n",
    "\n",
    "                elif command == 'shutdown_server':\n",
    "                    print(\"Shutting down server.\")\n",
    "                    server_socket.close()\n",
    "                    return Tips_check, Tips_volume, counts_data\n",
    "                else:\n",
    "                    print(f\"Unknown command: {command}\")\n",
    "    except Exception as e:\n",
    "        print(f\"Server error: {e}\")\n",
    "    finally:\n",
    "        server_socket.close()\n",
    "        print(\"Server has been shut down.\")\n",
    "\n",
    "if __name__ == \"__main__\":\n",
    "    Tips_check, Tips_volume, counts_data = start_server()"
   ]
  },
  {
   "cell_type": "code",
   "execution_count": 8,
   "metadata": {},
   "outputs": [
    {
     "data": {
      "text/html": [
       "<div>\n",
       "<style scoped>\n",
       "    .dataframe tbody tr th:only-of-type {\n",
       "        vertical-align: middle;\n",
       "    }\n",
       "\n",
       "    .dataframe tbody tr th {\n",
       "        vertical-align: top;\n",
       "    }\n",
       "\n",
       "    .dataframe thead th {\n",
       "        text-align: right;\n",
       "    }\n",
       "</style>\n",
       "<table border=\"1\" class=\"dataframe\">\n",
       "  <thead>\n",
       "    <tr style=\"text-align: right;\">\n",
       "      <th></th>\n",
       "      <th>Tip1</th>\n",
       "      <th>Tip2</th>\n",
       "      <th>Tip3</th>\n",
       "      <th>Tip4</th>\n",
       "      <th>Tip5</th>\n",
       "      <th>Tip6</th>\n",
       "      <th>Tip7</th>\n",
       "      <th>Tip8</th>\n",
       "    </tr>\n",
       "  </thead>\n",
       "  <tbody>\n",
       "    <tr>\n",
       "      <th>ROW 1</th>\n",
       "      <td>42.0</td>\n",
       "      <td>0.0</td>\n",
       "      <td>0.0</td>\n",
       "      <td>41.0</td>\n",
       "      <td>42.0</td>\n",
       "      <td>41.0</td>\n",
       "      <td>42.0</td>\n",
       "      <td>42.0</td>\n",
       "    </tr>\n",
       "    <tr>\n",
       "      <th>ROW 2</th>\n",
       "      <td>41.0</td>\n",
       "      <td>0.0</td>\n",
       "      <td>0.0</td>\n",
       "      <td>41.0</td>\n",
       "      <td>41.0</td>\n",
       "      <td>41.0</td>\n",
       "      <td>41.0</td>\n",
       "      <td>41.0</td>\n",
       "    </tr>\n",
       "    <tr>\n",
       "      <th>ROW 3</th>\n",
       "      <td>41.0</td>\n",
       "      <td>41.0</td>\n",
       "      <td>41.0</td>\n",
       "      <td>42.0</td>\n",
       "      <td>41.0</td>\n",
       "      <td>41.0</td>\n",
       "      <td>39.0</td>\n",
       "      <td>40.0</td>\n",
       "    </tr>\n",
       "    <tr>\n",
       "      <th>ROW 4</th>\n",
       "      <td>43.0</td>\n",
       "      <td>42.0</td>\n",
       "      <td>42.0</td>\n",
       "      <td>41.0</td>\n",
       "      <td>42.0</td>\n",
       "      <td>41.0</td>\n",
       "      <td>41.0</td>\n",
       "      <td>41.0</td>\n",
       "    </tr>\n",
       "    <tr>\n",
       "      <th>ROW 5</th>\n",
       "      <td>42.0</td>\n",
       "      <td>41.0</td>\n",
       "      <td>41.0</td>\n",
       "      <td>42.0</td>\n",
       "      <td>41.0</td>\n",
       "      <td>42.0</td>\n",
       "      <td>41.0</td>\n",
       "      <td>41.0</td>\n",
       "    </tr>\n",
       "    <tr>\n",
       "      <th>ROW 6</th>\n",
       "      <td>41.0</td>\n",
       "      <td>41.0</td>\n",
       "      <td>42.0</td>\n",
       "      <td>41.0</td>\n",
       "      <td>41.0</td>\n",
       "      <td>42.0</td>\n",
       "      <td>41.0</td>\n",
       "      <td>40.0</td>\n",
       "    </tr>\n",
       "    <tr>\n",
       "      <th>ROW 7</th>\n",
       "      <td>41.0</td>\n",
       "      <td>41.0</td>\n",
       "      <td>41.0</td>\n",
       "      <td>40.0</td>\n",
       "      <td>41.0</td>\n",
       "      <td>43.0</td>\n",
       "      <td>42.0</td>\n",
       "      <td>40.0</td>\n",
       "    </tr>\n",
       "    <tr>\n",
       "      <th>ROW 8</th>\n",
       "      <td>41.0</td>\n",
       "      <td>42.0</td>\n",
       "      <td>41.0</td>\n",
       "      <td>41.0</td>\n",
       "      <td>41.0</td>\n",
       "      <td>43.0</td>\n",
       "      <td>41.0</td>\n",
       "      <td>39.0</td>\n",
       "    </tr>\n",
       "    <tr>\n",
       "      <th>ROW 9</th>\n",
       "      <td>41.0</td>\n",
       "      <td>42.0</td>\n",
       "      <td>42.0</td>\n",
       "      <td>41.0</td>\n",
       "      <td>43.0</td>\n",
       "      <td>41.0</td>\n",
       "      <td>41.0</td>\n",
       "      <td>40.0</td>\n",
       "    </tr>\n",
       "    <tr>\n",
       "      <th>ROW 10</th>\n",
       "      <td>41.0</td>\n",
       "      <td>41.0</td>\n",
       "      <td>41.0</td>\n",
       "      <td>40.0</td>\n",
       "      <td>42.0</td>\n",
       "      <td>44.0</td>\n",
       "      <td>41.0</td>\n",
       "      <td>40.0</td>\n",
       "    </tr>\n",
       "    <tr>\n",
       "      <th>ROW 11</th>\n",
       "      <td>41.0</td>\n",
       "      <td>41.0</td>\n",
       "      <td>41.0</td>\n",
       "      <td>41.0</td>\n",
       "      <td>41.0</td>\n",
       "      <td>41.0</td>\n",
       "      <td>44.0</td>\n",
       "      <td>39.0</td>\n",
       "    </tr>\n",
       "    <tr>\n",
       "      <th>ROW 12</th>\n",
       "      <td>41.0</td>\n",
       "      <td>41.0</td>\n",
       "      <td>42.0</td>\n",
       "      <td>41.0</td>\n",
       "      <td>44.0</td>\n",
       "      <td>41.0</td>\n",
       "      <td>40.0</td>\n",
       "      <td>41.0</td>\n",
       "    </tr>\n",
       "    <tr>\n",
       "      <th>ROW 13</th>\n",
       "      <td>41.0</td>\n",
       "      <td>41.0</td>\n",
       "      <td>41.0</td>\n",
       "      <td>41.0</td>\n",
       "      <td>41.0</td>\n",
       "      <td>44.0</td>\n",
       "      <td>40.0</td>\n",
       "      <td>40.0</td>\n",
       "    </tr>\n",
       "    <tr>\n",
       "      <th>ROW 14</th>\n",
       "      <td>41.0</td>\n",
       "      <td>42.0</td>\n",
       "      <td>41.0</td>\n",
       "      <td>41.0</td>\n",
       "      <td>44.0</td>\n",
       "      <td>41.0</td>\n",
       "      <td>41.0</td>\n",
       "      <td>40.0</td>\n",
       "    </tr>\n",
       "    <tr>\n",
       "      <th>ROW 15</th>\n",
       "      <td>41.0</td>\n",
       "      <td>42.0</td>\n",
       "      <td>41.0</td>\n",
       "      <td>44.0</td>\n",
       "      <td>41.0</td>\n",
       "      <td>41.0</td>\n",
       "      <td>40.0</td>\n",
       "      <td>40.0</td>\n",
       "    </tr>\n",
       "    <tr>\n",
       "      <th>ROW 16</th>\n",
       "      <td>41.0</td>\n",
       "      <td>42.0</td>\n",
       "      <td>44.0</td>\n",
       "      <td>41.0</td>\n",
       "      <td>41.0</td>\n",
       "      <td>41.0</td>\n",
       "      <td>41.0</td>\n",
       "      <td>40.0</td>\n",
       "    </tr>\n",
       "    <tr>\n",
       "      <th>ROW 17</th>\n",
       "      <td>41.0</td>\n",
       "      <td>42.0</td>\n",
       "      <td>44.0</td>\n",
       "      <td>41.0</td>\n",
       "      <td>41.0</td>\n",
       "      <td>41.0</td>\n",
       "      <td>41.0</td>\n",
       "      <td>40.0</td>\n",
       "    </tr>\n",
       "    <tr>\n",
       "      <th>ROW 18</th>\n",
       "      <td>42.0</td>\n",
       "      <td>44.0</td>\n",
       "      <td>41.0</td>\n",
       "      <td>41.0</td>\n",
       "      <td>40.0</td>\n",
       "      <td>41.0</td>\n",
       "      <td>41.0</td>\n",
       "      <td>40.0</td>\n",
       "    </tr>\n",
       "    <tr>\n",
       "      <th>ROW 19</th>\n",
       "      <td>42.0</td>\n",
       "      <td>41.0</td>\n",
       "      <td>42.0</td>\n",
       "      <td>44.0</td>\n",
       "      <td>41.0</td>\n",
       "      <td>40.0</td>\n",
       "      <td>41.0</td>\n",
       "      <td>40.0</td>\n",
       "    </tr>\n",
       "    <tr>\n",
       "      <th>ROW 20</th>\n",
       "      <td>41.0</td>\n",
       "      <td>44.0</td>\n",
       "      <td>42.0</td>\n",
       "      <td>41.0</td>\n",
       "      <td>41.0</td>\n",
       "      <td>41.0</td>\n",
       "      <td>41.0</td>\n",
       "      <td>40.0</td>\n",
       "    </tr>\n",
       "    <tr>\n",
       "      <th>ROW 21</th>\n",
       "      <td>42.0</td>\n",
       "      <td>44.0</td>\n",
       "      <td>41.0</td>\n",
       "      <td>41.0</td>\n",
       "      <td>41.0</td>\n",
       "      <td>41.0</td>\n",
       "      <td>40.0</td>\n",
       "      <td>40.0</td>\n",
       "    </tr>\n",
       "    <tr>\n",
       "      <th>ROW 22</th>\n",
       "      <td>44.0</td>\n",
       "      <td>0.0</td>\n",
       "      <td>0.0</td>\n",
       "      <td>42.0</td>\n",
       "      <td>42.0</td>\n",
       "      <td>41.0</td>\n",
       "      <td>41.0</td>\n",
       "      <td>42.0</td>\n",
       "    </tr>\n",
       "    <tr>\n",
       "      <th>ROW 23</th>\n",
       "      <td>42.0</td>\n",
       "      <td>41.0</td>\n",
       "      <td>44.0</td>\n",
       "      <td>41.0</td>\n",
       "      <td>41.0</td>\n",
       "      <td>41.0</td>\n",
       "      <td>40.0</td>\n",
       "      <td>41.0</td>\n",
       "    </tr>\n",
       "    <tr>\n",
       "      <th>ROW 24</th>\n",
       "      <td>42.0</td>\n",
       "      <td>44.0</td>\n",
       "      <td>41.0</td>\n",
       "      <td>42.0</td>\n",
       "      <td>40.0</td>\n",
       "      <td>41.0</td>\n",
       "      <td>40.0</td>\n",
       "      <td>40.0</td>\n",
       "    </tr>\n",
       "  </tbody>\n",
       "</table>\n",
       "</div>"
      ],
      "text/plain": [
       "        Tip1  Tip2  Tip3  Tip4  Tip5  Tip6  Tip7  Tip8\n",
       "ROW 1   42.0   0.0   0.0  41.0  42.0  41.0  42.0  42.0\n",
       "ROW 2   41.0   0.0   0.0  41.0  41.0  41.0  41.0  41.0\n",
       "ROW 3   41.0  41.0  41.0  42.0  41.0  41.0  39.0  40.0\n",
       "ROW 4   43.0  42.0  42.0  41.0  42.0  41.0  41.0  41.0\n",
       "ROW 5   42.0  41.0  41.0  42.0  41.0  42.0  41.0  41.0\n",
       "ROW 6   41.0  41.0  42.0  41.0  41.0  42.0  41.0  40.0\n",
       "ROW 7   41.0  41.0  41.0  40.0  41.0  43.0  42.0  40.0\n",
       "ROW 8   41.0  42.0  41.0  41.0  41.0  43.0  41.0  39.0\n",
       "ROW 9   41.0  42.0  42.0  41.0  43.0  41.0  41.0  40.0\n",
       "ROW 10  41.0  41.0  41.0  40.0  42.0  44.0  41.0  40.0\n",
       "ROW 11  41.0  41.0  41.0  41.0  41.0  41.0  44.0  39.0\n",
       "ROW 12  41.0  41.0  42.0  41.0  44.0  41.0  40.0  41.0\n",
       "ROW 13  41.0  41.0  41.0  41.0  41.0  44.0  40.0  40.0\n",
       "ROW 14  41.0  42.0  41.0  41.0  44.0  41.0  41.0  40.0\n",
       "ROW 15  41.0  42.0  41.0  44.0  41.0  41.0  40.0  40.0\n",
       "ROW 16  41.0  42.0  44.0  41.0  41.0  41.0  41.0  40.0\n",
       "ROW 17  41.0  42.0  44.0  41.0  41.0  41.0  41.0  40.0\n",
       "ROW 18  42.0  44.0  41.0  41.0  40.0  41.0  41.0  40.0\n",
       "ROW 19  42.0  41.0  42.0  44.0  41.0  40.0  41.0  40.0\n",
       "ROW 20  41.0  44.0  42.0  41.0  41.0  41.0  41.0  40.0\n",
       "ROW 21  42.0  44.0  41.0  41.0  41.0  41.0  40.0  40.0\n",
       "ROW 22  44.0   0.0   0.0  42.0  42.0  41.0  41.0  42.0\n",
       "ROW 23  42.0  41.0  44.0  41.0  41.0  41.0  40.0  41.0\n",
       "ROW 24  42.0  44.0  41.0  42.0  40.0  41.0  40.0  40.0"
      ]
     },
     "execution_count": 8,
     "metadata": {},
     "output_type": "execute_result"
    }
   ],
   "source": [
    "Tips_volume \n",
    "Tips_volume1 = pd.DataFrame(Tips_volume)\n",
    "Tips_volume1.index = [f'ROW {i + 1}' for i in range(len(Tips_volume1))]\n",
    "Tips_volume1=Tips_volume1.round()\n",
    "Tips_volume1"
   ]
  },
  {
   "cell_type": "code",
   "execution_count": 9,
   "metadata": {},
   "outputs": [
    {
     "data": {
      "text/html": [
       "<div>\n",
       "<style scoped>\n",
       "    .dataframe tbody tr th:only-of-type {\n",
       "        vertical-align: middle;\n",
       "    }\n",
       "\n",
       "    .dataframe tbody tr th {\n",
       "        vertical-align: top;\n",
       "    }\n",
       "\n",
       "    .dataframe thead th {\n",
       "        text-align: right;\n",
       "    }\n",
       "</style>\n",
       "<table border=\"1\" class=\"dataframe\">\n",
       "  <thead>\n",
       "    <tr style=\"text-align: right;\">\n",
       "      <th></th>\n",
       "      <th>Tip1</th>\n",
       "      <th>Tip2</th>\n",
       "      <th>Tip3</th>\n",
       "      <th>Tip4</th>\n",
       "      <th>Tip5</th>\n",
       "      <th>Tip6</th>\n",
       "      <th>Tip7</th>\n",
       "      <th>Tip8</th>\n",
       "    </tr>\n",
       "  </thead>\n",
       "  <tbody>\n",
       "    <tr>\n",
       "      <th>ROW 1</th>\n",
       "      <td>Attached</td>\n",
       "      <td>MISSING</td>\n",
       "      <td>MISSING</td>\n",
       "      <td>Attached</td>\n",
       "      <td>Attached</td>\n",
       "      <td>Attached</td>\n",
       "      <td>Attached</td>\n",
       "      <td>Attached</td>\n",
       "    </tr>\n",
       "    <tr>\n",
       "      <th>ROW 2</th>\n",
       "      <td>Attached</td>\n",
       "      <td>MISSING</td>\n",
       "      <td>MISSING</td>\n",
       "      <td>Attached</td>\n",
       "      <td>Attached</td>\n",
       "      <td>Attached</td>\n",
       "      <td>Attached</td>\n",
       "      <td>Attached</td>\n",
       "    </tr>\n",
       "    <tr>\n",
       "      <th>ROW 3</th>\n",
       "      <td>Attached</td>\n",
       "      <td>Attached</td>\n",
       "      <td>Attached</td>\n",
       "      <td>Attached</td>\n",
       "      <td>Attached</td>\n",
       "      <td>Attached</td>\n",
       "      <td>Attached</td>\n",
       "      <td>Attached</td>\n",
       "    </tr>\n",
       "    <tr>\n",
       "      <th>ROW 4</th>\n",
       "      <td>Attached</td>\n",
       "      <td>Attached</td>\n",
       "      <td>Attached</td>\n",
       "      <td>Attached</td>\n",
       "      <td>Attached</td>\n",
       "      <td>Attached</td>\n",
       "      <td>Attached</td>\n",
       "      <td>Attached</td>\n",
       "    </tr>\n",
       "    <tr>\n",
       "      <th>ROW 5</th>\n",
       "      <td>Attached</td>\n",
       "      <td>Attached</td>\n",
       "      <td>Attached</td>\n",
       "      <td>Attached</td>\n",
       "      <td>Attached</td>\n",
       "      <td>Attached</td>\n",
       "      <td>Attached</td>\n",
       "      <td>Attached</td>\n",
       "    </tr>\n",
       "    <tr>\n",
       "      <th>ROW 6</th>\n",
       "      <td>Attached</td>\n",
       "      <td>Attached</td>\n",
       "      <td>Attached</td>\n",
       "      <td>Attached</td>\n",
       "      <td>Attached</td>\n",
       "      <td>Attached</td>\n",
       "      <td>Attached</td>\n",
       "      <td>Attached</td>\n",
       "    </tr>\n",
       "    <tr>\n",
       "      <th>ROW 7</th>\n",
       "      <td>Attached</td>\n",
       "      <td>Attached</td>\n",
       "      <td>Attached</td>\n",
       "      <td>Attached</td>\n",
       "      <td>Attached</td>\n",
       "      <td>Attached</td>\n",
       "      <td>Attached</td>\n",
       "      <td>Attached</td>\n",
       "    </tr>\n",
       "    <tr>\n",
       "      <th>ROW 8</th>\n",
       "      <td>Attached</td>\n",
       "      <td>Attached</td>\n",
       "      <td>Attached</td>\n",
       "      <td>Attached</td>\n",
       "      <td>Attached</td>\n",
       "      <td>Attached</td>\n",
       "      <td>Attached</td>\n",
       "      <td>Attached</td>\n",
       "    </tr>\n",
       "    <tr>\n",
       "      <th>ROW 9</th>\n",
       "      <td>Attached</td>\n",
       "      <td>Attached</td>\n",
       "      <td>Attached</td>\n",
       "      <td>Attached</td>\n",
       "      <td>Attached</td>\n",
       "      <td>Attached</td>\n",
       "      <td>Attached</td>\n",
       "      <td>Attached</td>\n",
       "    </tr>\n",
       "    <tr>\n",
       "      <th>ROW 10</th>\n",
       "      <td>Attached</td>\n",
       "      <td>Attached</td>\n",
       "      <td>Attached</td>\n",
       "      <td>Attached</td>\n",
       "      <td>Attached</td>\n",
       "      <td>Attached</td>\n",
       "      <td>Attached</td>\n",
       "      <td>Attached</td>\n",
       "    </tr>\n",
       "    <tr>\n",
       "      <th>ROW 11</th>\n",
       "      <td>Attached</td>\n",
       "      <td>Attached</td>\n",
       "      <td>Attached</td>\n",
       "      <td>Attached</td>\n",
       "      <td>Attached</td>\n",
       "      <td>Attached</td>\n",
       "      <td>Attached</td>\n",
       "      <td>Attached</td>\n",
       "    </tr>\n",
       "    <tr>\n",
       "      <th>ROW 12</th>\n",
       "      <td>Attached</td>\n",
       "      <td>Attached</td>\n",
       "      <td>Attached</td>\n",
       "      <td>Attached</td>\n",
       "      <td>Attached</td>\n",
       "      <td>Attached</td>\n",
       "      <td>Attached</td>\n",
       "      <td>Attached</td>\n",
       "    </tr>\n",
       "    <tr>\n",
       "      <th>ROW 13</th>\n",
       "      <td>Attached</td>\n",
       "      <td>Attached</td>\n",
       "      <td>Attached</td>\n",
       "      <td>Attached</td>\n",
       "      <td>Attached</td>\n",
       "      <td>Attached</td>\n",
       "      <td>Attached</td>\n",
       "      <td>Attached</td>\n",
       "    </tr>\n",
       "    <tr>\n",
       "      <th>ROW 14</th>\n",
       "      <td>Attached</td>\n",
       "      <td>Attached</td>\n",
       "      <td>Attached</td>\n",
       "      <td>Attached</td>\n",
       "      <td>Attached</td>\n",
       "      <td>Attached</td>\n",
       "      <td>Attached</td>\n",
       "      <td>Attached</td>\n",
       "    </tr>\n",
       "    <tr>\n",
       "      <th>ROW 15</th>\n",
       "      <td>Attached</td>\n",
       "      <td>Attached</td>\n",
       "      <td>Attached</td>\n",
       "      <td>Attached</td>\n",
       "      <td>Attached</td>\n",
       "      <td>Attached</td>\n",
       "      <td>Attached</td>\n",
       "      <td>Attached</td>\n",
       "    </tr>\n",
       "    <tr>\n",
       "      <th>ROW 16</th>\n",
       "      <td>Attached</td>\n",
       "      <td>Attached</td>\n",
       "      <td>Attached</td>\n",
       "      <td>Attached</td>\n",
       "      <td>Attached</td>\n",
       "      <td>Attached</td>\n",
       "      <td>Attached</td>\n",
       "      <td>Attached</td>\n",
       "    </tr>\n",
       "    <tr>\n",
       "      <th>ROW 17</th>\n",
       "      <td>Attached</td>\n",
       "      <td>Attached</td>\n",
       "      <td>Attached</td>\n",
       "      <td>Attached</td>\n",
       "      <td>Attached</td>\n",
       "      <td>Attached</td>\n",
       "      <td>Attached</td>\n",
       "      <td>Attached</td>\n",
       "    </tr>\n",
       "    <tr>\n",
       "      <th>ROW 18</th>\n",
       "      <td>Attached</td>\n",
       "      <td>Attached</td>\n",
       "      <td>Attached</td>\n",
       "      <td>Attached</td>\n",
       "      <td>Attached</td>\n",
       "      <td>Attached</td>\n",
       "      <td>Attached</td>\n",
       "      <td>Attached</td>\n",
       "    </tr>\n",
       "    <tr>\n",
       "      <th>ROW 19</th>\n",
       "      <td>Attached</td>\n",
       "      <td>Attached</td>\n",
       "      <td>Attached</td>\n",
       "      <td>Attached</td>\n",
       "      <td>Attached</td>\n",
       "      <td>Attached</td>\n",
       "      <td>Attached</td>\n",
       "      <td>Attached</td>\n",
       "    </tr>\n",
       "    <tr>\n",
       "      <th>ROW 20</th>\n",
       "      <td>Attached</td>\n",
       "      <td>Attached</td>\n",
       "      <td>Attached</td>\n",
       "      <td>Attached</td>\n",
       "      <td>Attached</td>\n",
       "      <td>Attached</td>\n",
       "      <td>Attached</td>\n",
       "      <td>Attached</td>\n",
       "    </tr>\n",
       "    <tr>\n",
       "      <th>ROW 21</th>\n",
       "      <td>Attached</td>\n",
       "      <td>Attached</td>\n",
       "      <td>Attached</td>\n",
       "      <td>Attached</td>\n",
       "      <td>Attached</td>\n",
       "      <td>Attached</td>\n",
       "      <td>Attached</td>\n",
       "      <td>Attached</td>\n",
       "    </tr>\n",
       "    <tr>\n",
       "      <th>ROW 22</th>\n",
       "      <td>Attached</td>\n",
       "      <td>MISSING</td>\n",
       "      <td>MISSING</td>\n",
       "      <td>Attached</td>\n",
       "      <td>Attached</td>\n",
       "      <td>Attached</td>\n",
       "      <td>Attached</td>\n",
       "      <td>Attached</td>\n",
       "    </tr>\n",
       "    <tr>\n",
       "      <th>ROW 23</th>\n",
       "      <td>Attached</td>\n",
       "      <td>Attached</td>\n",
       "      <td>Attached</td>\n",
       "      <td>Attached</td>\n",
       "      <td>Attached</td>\n",
       "      <td>Attached</td>\n",
       "      <td>Attached</td>\n",
       "      <td>Attached</td>\n",
       "    </tr>\n",
       "    <tr>\n",
       "      <th>ROW 24</th>\n",
       "      <td>Attached</td>\n",
       "      <td>Attached</td>\n",
       "      <td>Attached</td>\n",
       "      <td>Attached</td>\n",
       "      <td>Attached</td>\n",
       "      <td>Attached</td>\n",
       "      <td>Attached</td>\n",
       "      <td>Attached</td>\n",
       "    </tr>\n",
       "  </tbody>\n",
       "</table>\n",
       "</div>"
      ],
      "text/plain": [
       "            Tip1      Tip2      Tip3      Tip4      Tip5      Tip6      Tip7  \\\n",
       "ROW 1   Attached   MISSING   MISSING  Attached  Attached  Attached  Attached   \n",
       "ROW 2   Attached   MISSING   MISSING  Attached  Attached  Attached  Attached   \n",
       "ROW 3   Attached  Attached  Attached  Attached  Attached  Attached  Attached   \n",
       "ROW 4   Attached  Attached  Attached  Attached  Attached  Attached  Attached   \n",
       "ROW 5   Attached  Attached  Attached  Attached  Attached  Attached  Attached   \n",
       "ROW 6   Attached  Attached  Attached  Attached  Attached  Attached  Attached   \n",
       "ROW 7   Attached  Attached  Attached  Attached  Attached  Attached  Attached   \n",
       "ROW 8   Attached  Attached  Attached  Attached  Attached  Attached  Attached   \n",
       "ROW 9   Attached  Attached  Attached  Attached  Attached  Attached  Attached   \n",
       "ROW 10  Attached  Attached  Attached  Attached  Attached  Attached  Attached   \n",
       "ROW 11  Attached  Attached  Attached  Attached  Attached  Attached  Attached   \n",
       "ROW 12  Attached  Attached  Attached  Attached  Attached  Attached  Attached   \n",
       "ROW 13  Attached  Attached  Attached  Attached  Attached  Attached  Attached   \n",
       "ROW 14  Attached  Attached  Attached  Attached  Attached  Attached  Attached   \n",
       "ROW 15  Attached  Attached  Attached  Attached  Attached  Attached  Attached   \n",
       "ROW 16  Attached  Attached  Attached  Attached  Attached  Attached  Attached   \n",
       "ROW 17  Attached  Attached  Attached  Attached  Attached  Attached  Attached   \n",
       "ROW 18  Attached  Attached  Attached  Attached  Attached  Attached  Attached   \n",
       "ROW 19  Attached  Attached  Attached  Attached  Attached  Attached  Attached   \n",
       "ROW 20  Attached  Attached  Attached  Attached  Attached  Attached  Attached   \n",
       "ROW 21  Attached  Attached  Attached  Attached  Attached  Attached  Attached   \n",
       "ROW 22  Attached   MISSING   MISSING  Attached  Attached  Attached  Attached   \n",
       "ROW 23  Attached  Attached  Attached  Attached  Attached  Attached  Attached   \n",
       "ROW 24  Attached  Attached  Attached  Attached  Attached  Attached  Attached   \n",
       "\n",
       "            Tip8  \n",
       "ROW 1   Attached  \n",
       "ROW 2   Attached  \n",
       "ROW 3   Attached  \n",
       "ROW 4   Attached  \n",
       "ROW 5   Attached  \n",
       "ROW 6   Attached  \n",
       "ROW 7   Attached  \n",
       "ROW 8   Attached  \n",
       "ROW 9   Attached  \n",
       "ROW 10  Attached  \n",
       "ROW 11  Attached  \n",
       "ROW 12  Attached  \n",
       "ROW 13  Attached  \n",
       "ROW 14  Attached  \n",
       "ROW 15  Attached  \n",
       "ROW 16  Attached  \n",
       "ROW 17  Attached  \n",
       "ROW 18  Attached  \n",
       "ROW 19  Attached  \n",
       "ROW 20  Attached  \n",
       "ROW 21  Attached  \n",
       "ROW 22  Attached  \n",
       "ROW 23  Attached  \n",
       "ROW 24  Attached  "
      ]
     },
     "execution_count": 9,
     "metadata": {},
     "output_type": "execute_result"
    }
   ],
   "source": [
    "Tips_check = pd.DataFrame(Tips_check)\n",
    "Tips_check.index = [f'ROW {i + 1}' for i in range(len(Tips_check))]\n",
    "Tips_check"
   ]
  },
  {
   "cell_type": "code",
   "execution_count": 10,
   "metadata": {},
   "outputs": [
    {
     "data": {
      "text/html": [
       "<div>\n",
       "<style scoped>\n",
       "    .dataframe tbody tr th:only-of-type {\n",
       "        vertical-align: middle;\n",
       "    }\n",
       "\n",
       "    .dataframe tbody tr th {\n",
       "        vertical-align: top;\n",
       "    }\n",
       "\n",
       "    .dataframe thead th {\n",
       "        text-align: right;\n",
       "    }\n",
       "</style>\n",
       "<table border=\"1\" class=\"dataframe\">\n",
       "  <thead>\n",
       "    <tr style=\"text-align: right;\">\n",
       "      <th></th>\n",
       "      <th>Tips_Count</th>\n",
       "      <th>Liquid_Count</th>\n",
       "    </tr>\n",
       "  </thead>\n",
       "  <tbody>\n",
       "    <tr>\n",
       "      <th>Round 1</th>\n",
       "      <td>9</td>\n",
       "      <td>8</td>\n",
       "    </tr>\n",
       "    <tr>\n",
       "      <th>Round 2</th>\n",
       "      <td>9</td>\n",
       "      <td>8</td>\n",
       "    </tr>\n",
       "    <tr>\n",
       "      <th>Round 3</th>\n",
       "      <td>8</td>\n",
       "      <td>8</td>\n",
       "    </tr>\n",
       "    <tr>\n",
       "      <th>Round 4</th>\n",
       "      <td>8</td>\n",
       "      <td>8</td>\n",
       "    </tr>\n",
       "    <tr>\n",
       "      <th>Round 5</th>\n",
       "      <td>8</td>\n",
       "      <td>8</td>\n",
       "    </tr>\n",
       "    <tr>\n",
       "      <th>Round 6</th>\n",
       "      <td>8</td>\n",
       "      <td>8</td>\n",
       "    </tr>\n",
       "    <tr>\n",
       "      <th>Round 7</th>\n",
       "      <td>8</td>\n",
       "      <td>8</td>\n",
       "    </tr>\n",
       "    <tr>\n",
       "      <th>Round 8</th>\n",
       "      <td>8</td>\n",
       "      <td>8</td>\n",
       "    </tr>\n",
       "    <tr>\n",
       "      <th>Round 9</th>\n",
       "      <td>8</td>\n",
       "      <td>8</td>\n",
       "    </tr>\n",
       "    <tr>\n",
       "      <th>Round 10</th>\n",
       "      <td>8</td>\n",
       "      <td>8</td>\n",
       "    </tr>\n",
       "    <tr>\n",
       "      <th>Round 11</th>\n",
       "      <td>8</td>\n",
       "      <td>8</td>\n",
       "    </tr>\n",
       "    <tr>\n",
       "      <th>Round 12</th>\n",
       "      <td>8</td>\n",
       "      <td>8</td>\n",
       "    </tr>\n",
       "    <tr>\n",
       "      <th>Round 13</th>\n",
       "      <td>8</td>\n",
       "      <td>8</td>\n",
       "    </tr>\n",
       "    <tr>\n",
       "      <th>Round 14</th>\n",
       "      <td>8</td>\n",
       "      <td>8</td>\n",
       "    </tr>\n",
       "    <tr>\n",
       "      <th>Round 15</th>\n",
       "      <td>8</td>\n",
       "      <td>8</td>\n",
       "    </tr>\n",
       "    <tr>\n",
       "      <th>Round 16</th>\n",
       "      <td>8</td>\n",
       "      <td>8</td>\n",
       "    </tr>\n",
       "    <tr>\n",
       "      <th>Round 17</th>\n",
       "      <td>8</td>\n",
       "      <td>8</td>\n",
       "    </tr>\n",
       "    <tr>\n",
       "      <th>Round 18</th>\n",
       "      <td>8</td>\n",
       "      <td>8</td>\n",
       "    </tr>\n",
       "    <tr>\n",
       "      <th>Round 19</th>\n",
       "      <td>8</td>\n",
       "      <td>8</td>\n",
       "    </tr>\n",
       "    <tr>\n",
       "      <th>Round 20</th>\n",
       "      <td>8</td>\n",
       "      <td>8</td>\n",
       "    </tr>\n",
       "    <tr>\n",
       "      <th>Round 21</th>\n",
       "      <td>8</td>\n",
       "      <td>8</td>\n",
       "    </tr>\n",
       "    <tr>\n",
       "      <th>Round 22</th>\n",
       "      <td>9</td>\n",
       "      <td>8</td>\n",
       "    </tr>\n",
       "    <tr>\n",
       "      <th>Round 23</th>\n",
       "      <td>8</td>\n",
       "      <td>8</td>\n",
       "    </tr>\n",
       "    <tr>\n",
       "      <th>Round 24</th>\n",
       "      <td>8</td>\n",
       "      <td>8</td>\n",
       "    </tr>\n",
       "  </tbody>\n",
       "</table>\n",
       "</div>"
      ],
      "text/plain": [
       "          Tips_Count  Liquid_Count\n",
       "Round 1            9             8\n",
       "Round 2            9             8\n",
       "Round 3            8             8\n",
       "Round 4            8             8\n",
       "Round 5            8             8\n",
       "Round 6            8             8\n",
       "Round 7            8             8\n",
       "Round 8            8             8\n",
       "Round 9            8             8\n",
       "Round 10           8             8\n",
       "Round 11           8             8\n",
       "Round 12           8             8\n",
       "Round 13           8             8\n",
       "Round 14           8             8\n",
       "Round 15           8             8\n",
       "Round 16           8             8\n",
       "Round 17           8             8\n",
       "Round 18           8             8\n",
       "Round 19           8             8\n",
       "Round 20           8             8\n",
       "Round 21           8             8\n",
       "Round 22           9             8\n",
       "Round 23           8             8\n",
       "Round 24           8             8"
      ]
     },
     "execution_count": 10,
     "metadata": {},
     "output_type": "execute_result"
    }
   ],
   "source": [
    "counts_data = pd.DataFrame(counts_data)\n",
    "counts_data.index = [f'Round {i + 1}' for i in range(len(counts_data))]\n",
    "counts_data"
   ]
  },
  {
   "cell_type": "code",
   "execution_count": 11,
   "metadata": {},
   "outputs": [],
   "source": [
    "writer = pd.ExcelWriter('dataframes_combined.xlsx', engine='xlsxwriter')\n",
    "Tips_volume1.to_excel(writer, sheet_name='Tips_volume1')\n",
    "Tips_check.to_excel(writer, sheet_name='Tips_check')\n",
    "counts_data.to_excel(writer, sheet_name='counts_data')\n",
    "writer.close()\n"
   ]
  },
  {
   "cell_type": "code",
   "execution_count": null,
   "metadata": {},
   "outputs": [],
   "source": [
    "#!pip install XlsxWriter"
   ]
  },
  {
   "cell_type": "code",
   "execution_count": null,
   "metadata": {},
   "outputs": [],
   "source": []
  },
  {
   "cell_type": "code",
   "execution_count": null,
   "metadata": {},
   "outputs": [],
   "source": []
  },
  {
   "cell_type": "code",
   "execution_count": null,
   "metadata": {},
   "outputs": [],
   "source": []
  },
  {
   "cell_type": "code",
   "execution_count": null,
   "metadata": {},
   "outputs": [],
   "source": []
  },
  {
   "cell_type": "code",
   "execution_count": null,
   "metadata": {},
   "outputs": [],
   "source": []
  },
  {
   "cell_type": "code",
   "execution_count": null,
   "metadata": {},
   "outputs": [],
   "source": []
  },
  {
   "cell_type": "code",
   "execution_count": null,
   "metadata": {},
   "outputs": [],
   "source": []
  },
  {
   "cell_type": "code",
   "execution_count": null,
   "metadata": {},
   "outputs": [],
   "source": []
  },
  {
   "cell_type": "code",
   "execution_count": null,
   "metadata": {},
   "outputs": [],
   "source": []
  },
  {
   "cell_type": "code",
   "execution_count": null,
   "metadata": {},
   "outputs": [],
   "source": []
  },
  {
   "cell_type": "code",
   "execution_count": null,
   "metadata": {},
   "outputs": [],
   "source": []
  },
  {
   "cell_type": "code",
   "execution_count": null,
   "metadata": {},
   "outputs": [],
   "source": []
  },
  {
   "cell_type": "code",
   "execution_count": null,
   "metadata": {},
   "outputs": [],
   "source": []
  },
  {
   "cell_type": "code",
   "execution_count": null,
   "metadata": {},
   "outputs": [],
   "source": []
  },
  {
   "cell_type": "code",
   "execution_count": null,
   "metadata": {},
   "outputs": [],
   "source": []
  },
  {
   "cell_type": "code",
   "execution_count": null,
   "metadata": {},
   "outputs": [],
   "source": []
  },
  {
   "cell_type": "code",
   "execution_count": null,
   "metadata": {},
   "outputs": [],
   "source": []
  },
  {
   "cell_type": "code",
   "execution_count": null,
   "metadata": {},
   "outputs": [],
   "source": []
  },
  {
   "cell_type": "code",
   "execution_count": null,
   "metadata": {},
   "outputs": [],
   "source": []
  },
  {
   "cell_type": "code",
   "execution_count": null,
   "metadata": {},
   "outputs": [],
   "source": []
  },
  {
   "cell_type": "code",
   "execution_count": null,
   "metadata": {},
   "outputs": [],
   "source": []
  },
  {
   "cell_type": "code",
   "execution_count": null,
   "metadata": {},
   "outputs": [],
   "source": []
  },
  {
   "cell_type": "code",
   "execution_count": null,
   "metadata": {},
   "outputs": [],
   "source": []
  },
  {
   "cell_type": "code",
   "execution_count": null,
   "metadata": {},
   "outputs": [],
   "source": []
  },
  {
   "cell_type": "code",
   "execution_count": null,
   "metadata": {},
   "outputs": [],
   "source": []
  },
  {
   "cell_type": "code",
   "execution_count": null,
   "metadata": {},
   "outputs": [],
   "source": []
  },
  {
   "cell_type": "code",
   "execution_count": null,
   "metadata": {},
   "outputs": [],
   "source": []
  },
  {
   "cell_type": "code",
   "execution_count": null,
   "metadata": {},
   "outputs": [],
   "source": []
  },
  {
   "cell_type": "code",
   "execution_count": null,
   "metadata": {},
   "outputs": [],
   "source": []
  },
  {
   "cell_type": "code",
   "execution_count": null,
   "metadata": {},
   "outputs": [],
   "source": []
  },
  {
   "cell_type": "code",
   "execution_count": null,
   "metadata": {},
   "outputs": [],
   "source": []
  },
  {
   "cell_type": "code",
   "execution_count": null,
   "metadata": {},
   "outputs": [],
   "source": []
  },
  {
   "cell_type": "code",
   "execution_count": null,
   "metadata": {},
   "outputs": [],
   "source": []
  },
  {
   "cell_type": "code",
   "execution_count": null,
   "metadata": {},
   "outputs": [],
   "source": []
  },
  {
   "cell_type": "code",
   "execution_count": null,
   "metadata": {},
   "outputs": [],
   "source": []
  },
  {
   "cell_type": "code",
   "execution_count": null,
   "metadata": {},
   "outputs": [],
   "source": []
  },
  {
   "cell_type": "code",
   "execution_count": null,
   "metadata": {},
   "outputs": [],
   "source": []
  },
  {
   "cell_type": "code",
   "execution_count": null,
   "metadata": {},
   "outputs": [],
   "source": []
  },
  {
   "cell_type": "code",
   "execution_count": null,
   "metadata": {},
   "outputs": [],
   "source": []
  },
  {
   "cell_type": "code",
   "execution_count": null,
   "metadata": {},
   "outputs": [],
   "source": []
  },
  {
   "cell_type": "code",
   "execution_count": null,
   "metadata": {},
   "outputs": [],
   "source": []
  },
  {
   "cell_type": "code",
   "execution_count": null,
   "metadata": {},
   "outputs": [],
   "source": []
  },
  {
   "cell_type": "code",
   "execution_count": null,
   "metadata": {},
   "outputs": [],
   "source": []
  },
  {
   "cell_type": "code",
   "execution_count": null,
   "metadata": {},
   "outputs": [],
   "source": []
  },
  {
   "cell_type": "code",
   "execution_count": null,
   "metadata": {},
   "outputs": [],
   "source": []
  },
  {
   "cell_type": "code",
   "execution_count": null,
   "metadata": {},
   "outputs": [],
   "source": []
  },
  {
   "cell_type": "code",
   "execution_count": null,
   "metadata": {},
   "outputs": [],
   "source": []
  },
  {
   "cell_type": "code",
   "execution_count": null,
   "metadata": {},
   "outputs": [],
   "source": []
  },
  {
   "cell_type": "code",
   "execution_count": null,
   "metadata": {},
   "outputs": [],
   "source": []
  },
  {
   "cell_type": "code",
   "execution_count": null,
   "metadata": {},
   "outputs": [],
   "source": []
  },
  {
   "cell_type": "code",
   "execution_count": null,
   "metadata": {},
   "outputs": [],
   "source": []
  },
  {
   "cell_type": "code",
   "execution_count": null,
   "metadata": {},
   "outputs": [],
   "source": []
  },
  {
   "cell_type": "code",
   "execution_count": null,
   "metadata": {},
   "outputs": [],
   "source": []
  },
  {
   "cell_type": "code",
   "execution_count": null,
   "metadata": {},
   "outputs": [],
   "source": []
  },
  {
   "cell_type": "code",
   "execution_count": null,
   "metadata": {},
   "outputs": [],
   "source": []
  },
  {
   "cell_type": "code",
   "execution_count": null,
   "metadata": {},
   "outputs": [],
   "source": []
  }
 ],
 "metadata": {
  "kernelspec": {
   "display_name": "OT2",
   "language": "python",
   "name": "python3"
  },
  "language_info": {
   "codemirror_mode": {
    "name": "ipython",
    "version": 3
   },
   "file_extension": ".py",
   "mimetype": "text/x-python",
   "name": "python",
   "nbconvert_exporter": "python",
   "pygments_lexer": "ipython3",
   "version": "3.10.11"
  }
 },
 "nbformat": 4,
 "nbformat_minor": 2
}
