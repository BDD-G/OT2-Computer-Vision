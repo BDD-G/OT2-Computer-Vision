{
 "cells": [
  {
   "cell_type": "code",
   "execution_count": 16,
   "id": "86a5f8a7",
   "metadata": {},
   "outputs": [],
   "source": [
    "import OT2_functions as OT\n",
    "import cv2\n",
    "import requests\n",
    "import json\n",
    "import time\n",
    "import os\n",
    "import subprocess\n",
    "import numpy as np\n",
    "import detection_functions as DF"
   ]
  },
  {
   "cell_type": "code",
   "execution_count": null,
   "id": "ccc42ac4",
   "metadata": {},
   "outputs": [],
   "source": [
    "#Load labware\n",
    "\n",
    "TIP_RACK = \"opentrons_96_tiprack_300ul\"\n",
    "RESERVOIR = \"nest_96_wellplate_200ul_flat\"\n",
    "PIPETTE = \"p300_multi\"\n",
    "FAKE_PLATE = \"agilent_1_reservoir_290ml\"\n",
    "\n",
    "run_id, commands_url = OT.create_run()\n",
    "\n",
    "#pipette is 0, other labware is 1. Location is the location on the deck.\n",
    "pipette_id = OT.load_equipment(0,PIPETTE)\n",
    "reservoir_id = OT.load_equipment(1,RESERVOIR,'4')\n",
    "tiprack_id = OT.load_equipment(1,TIP_RACK,'11')\n",
    "fake_plate_id = OT.load_equipment(1,FAKE_PLATE,'6')"
   ]
  },
  {
   "cell_type": "code",
   "execution_count": 18,
   "id": "6154eb34",
   "metadata": {},
   "outputs": [
    {
     "name": "stdout",
     "output_type": "stream",
     "text": [
      "Request status:\n",
      "<Response [200]>\n",
      "{\"on\":true}\n",
      "Request status:\n",
      "<Response [200]>\n",
      "{\"on\":true}\n",
      "Request status:\n",
      "<Response [200]>\n",
      "{\"on\":false}\n",
      "Request status:\n",
      "<Response [200]>\n",
      "{\"on\":false}\n"
     ]
    }
   ],
   "source": [
    "#camera calibration\n",
    "\n",
    "#trun on the light\n",
    "OT.light(True)\n",
    "\n",
    "#take tips\n",
    "#OT.pick_up(tiprack_id)\n",
    "#OT.move(fake_plate_id, 50)\n",
    "#OT.drop_tips(tiprack_id)\n",
    "#OT.drop_tips(None)\n",
    "\n",
    "\n",
    "cap = cv2.VideoCapture(0)\n",
    "\n",
    "while True:\n",
    "    ret,frame = cap.read()\n",
    "    cv2.imshow('Video', frame)\n",
    "    \n",
    "    if cv2.waitKey(1) & 0xFF == ord('q'):\n",
    "        break\n",
    "\n",
    "cap.release()\n",
    "cv2.destroyAllWindows()\n",
    "#OT.home()\n",
    "OT.light(False)"
   ]
  },
  {
   "cell_type": "code",
   "execution_count": 8,
   "id": "c01f1656",
   "metadata": {},
   "outputs": [],
   "source": [
    "#start\n",
    "\n",
    "#image save\n",
    "source = '/home/pi/Desktop/object_detection/image'# where the pic save\n",
    "image_name = 'test-name'\n",
    "\n",
    "#detect file\n",
    "file_path = '/home/pi/Desktop/object_detection/detect_label_single.py'"
   ]
  },
  {
   "cell_type": "code",
   "execution_count": 12,
   "id": "e3b0a00e",
   "metadata": {},
   "outputs": [
    {
     "name": "stdout",
     "output_type": "stream",
     "text": [
      "Request status:\n",
      "<Response [200]>\n",
      "{\"on\":true}\n",
      "Request status:\n",
      "<Response [200]>\n",
      "{\"on\":true}\n",
      "Command:\n",
      "{\"data\": {\"commandType\": \"moveToWell\", \"params\": {\"labwareId\": \"e244fb17-e9ab-4c61-ae52-413986518bac\", \"wellName\": \"A1\", \"wellLocation\": {\"origin\": \"top\", \"offset\": {\"x\": 50, \"y\": 0, \"z\": 80}}, \"pipetteId\": \"224465df-0ebc-47e0-9bbc-d7c49a19da1f\"}, \"intent\": \"setup\"}}\n",
      "\n",
      "Response:\n",
      "<Response [201]>\n",
      "{\"data\": {\"id\": \"e6a5c9cf-d0d9-4f20-bff4-f9fb0fd799d1\", \"createdAt\": \"2023-07-13T14:05:35.765728+00:00\", \"commandType\": \"moveToWell\", \"key\": \"e6a5c9cf-d0d9-4f20-bff4-f9fb0fd799d1\", \"status\": \"queued\", \"params\": {\"forceDirect\": false, \"labwareId\": \"e244fb17-e9ab-4c61-ae52-413986518bac\", \"wellName\": \"A1\", \"wellLocation\": {\"origin\": \"top\", \"offset\": {\"x\": 50.0, \"y\": 0.0, \"z\": 80.0}}, \"pipetteId\": \"224465df-0ebc-47e0-9bbc-d7c49a19da1f\"}, \"intent\": \"setup\"}}\n",
      "\n",
      "finish\n",
      "/home/pi/Desktop/object_detection/image/liquid_level.jpg\n",
      "{}\n",
      "\n",
      "Command:\n",
      "{\"target\": \"robot\"}\n",
      "Response:\n",
      "<Response [200]>\n",
      "{\"message\":\"Homing robot.\"}\n",
      "\n",
      "Request status:\n",
      "<Response [200]>\n",
      "{\"on\":false}\n",
      "Request status:\n",
      "<Response [200]>\n",
      "{\"on\":false}\n"
     ]
    }
   ],
   "source": [
    "# Take picture of the liquid level\n",
    "\n",
    "OT.light(True)\n",
    "#OT.pick_up(tiprack_id)\n",
    "#OT.aspirate(reservoir_id)\n",
    "\n",
    "OT.move(fake_plate_id, 50)\n",
    "\n",
    "time.sleep(2)\n",
    "DF.take_photo('liquid_level.jpg')\n",
    "time.sleep(2)\n",
    "\n",
    "image_path_ll = os.path.join(source, 'liquid_level.jpg') #path of the liquid level image\n",
    "print(image_path_ll)\n",
    "arguments_txt = [\"--source\", image_path_ll]\n",
    "completed_process = subprocess.run([\"python\", file_path] + arguments_txt, capture_output=True, text=True)\n",
    "\n",
    "output = completed_process.stdout\n",
    "tips,liquids = DF.detect(output)\n",
    "threshold = DF.save_threshold(tips,liquids)\n",
    "#OT.dispense(reservoir_id)\n",
    "#OT.drop_tips(tiprack_id)\n",
    "OT.home()\n",
    "OT.light(False)"
   ]
  },
  {
   "cell_type": "code",
   "execution_count": null,
   "id": "92ce30c7",
   "metadata": {},
   "outputs": [],
   "source": [
    "## LOOP START\n",
    "for i in range(20):\n",
    "    source_name = f'{image_name}_{i+1}'\n",
    "    source_path = f'{source}{source_name}'\n",
    "    arguments = [\"--source\", source_path,'--save-txt']\n",
    "    \n",
    "    #take tips\n",
    "    OT.pick_up(tiprack_id)\n",
    "    #go to camera\n",
    "    OT.aspirate(reservoir_id)\n",
    "    OT.move(fake_plate_id, 50)\n",
    "    time.sleep(2)\n",
    "    DF.take_photo('source_name')\n",
    "    time.sleep(2)#Overwrite the previous image file\n",
    "    \n",
    "    completed_process = subprocess.run([\"python\", file_path] + arguments, capture_output=True, text=True)\n",
    "    output = completed_process.stdout\n",
    "    tips,liquids = DF.detect(output)\n",
    "    DF.match_boxes(tips,liquids,threshold)\n",
    "    \n",
    "    \n",
    "    OT.dispense(reservoir_id)\n",
    "    OT.drop_tips(tiprack_id)\n",
    "    \n",
    "    \n",
    "## Turn on lights while running run\n",
    "OT.home()\n",
    "OT.light(False)\n",
    "\n",
    "print('Your protocol is finished well done!')"
   ]
  }
 ],
 "metadata": {
  "kernelspec": {
   "display_name": "Python 3 (ipykernel)",
   "language": "python",
   "name": "python3"
  },
  "language_info": {
   "codemirror_mode": {
    "name": "ipython",
    "version": 3
   },
   "file_extension": ".py",
   "mimetype": "text/x-python",
   "name": "python",
   "nbconvert_exporter": "python",
   "pygments_lexer": "ipython3",
   "version": "3.9.2"
  }
 },
 "nbformat": 4,
 "nbformat_minor": 5
}
