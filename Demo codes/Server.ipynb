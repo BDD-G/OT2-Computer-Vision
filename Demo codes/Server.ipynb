{
 "cells": [
  {
   "cell_type": "code",
   "execution_count": 11,
   "metadata": {},
   "outputs": [],
   "source": [
    "import cv2\n",
    "import os\n",
    "from datetime import datetime\n",
    "import time\n",
    "import socket\n",
    "import subprocess\n",
    "import Helper\n",
    "import pandas as pd\n",
    "from super_gradients.training import models\n",
    "import numpy as np\n"
   ]
  },
  {
   "cell_type": "code",
   "execution_count": 12,
   "metadata": {},
   "outputs": [
    {
     "data": {
      "text/plain": [
       "'172.20.10.4'"
      ]
     },
     "execution_count": 12,
     "metadata": {},
     "output_type": "execute_result"
    }
   ],
   "source": [
    "import socket\n",
    "def get_ip_address():\n",
    "    try:\n",
    "        s = socket.socket(socket.AF_INET, socket.SOCK_DGRAM) #creat connection\n",
    "        s.connect((\"8.8.8.8\", 80)) #ping google\n",
    "        ip = s.getsockname()[0] #own ip add.\n",
    "        s.close()\n",
    "        return ip\n",
    "    except Exception as e:\n",
    "        return F\"Could not get IP: {e}\"\n",
    "\n",
    "get_ip_address()"
   ]
  },
  {
   "cell_type": "markdown",
   "metadata": {},
   "source": [
    "## Calling Model\n"
   ]
  },
  {
   "cell_type": "code",
   "execution_count": 13,
   "metadata": {},
   "outputs": [
    {
     "name": "stderr",
     "output_type": "stream",
     "text": [
      "[2024-03-05 20:30:10] INFO - checkpoint_utils.py - Successfully loaded model weights from D:\\Final Code\\Final Project\\Yolo nas\\Dataset\\checkpoints\\tips and liquid\\RUN_20240120_202748_124739\\ckpt_best.pth EMA checkpoint.\n"
     ]
    }
   ],
   "source": [
    "#Download Model from model link.txt file\n",
    "model_path = r\"D:\\Final Code\\Final Project\\Yolo nas\\Dataset\\checkpoints\\tips and liquid\\RUN_20240120_202748_124739\\ckpt_best.pth\"\n",
    "\n",
    "best_model = models.get('yolo_nas_l',\n",
    "                        num_classes=2,\n",
    "                        checkpoint_path=model_path)"
   ]
  },
  {
   "cell_type": "code",
   "execution_count": 11,
   "metadata": {},
   "outputs": [
    {
     "name": "stdout",
     "output_type": "stream",
     "text": [
      "Server started on port 9999\n",
      "Got a connection from ('172.20.10.6', 37612)\n"
     ]
    }
   ],
   "source": [
    "def start_server():\n",
    "    keys = ['Tip1', 'Tip2', 'Tip3', 'Tip4', 'Tip5', 'Tip6', 'Tip7', 'Tip8']\n",
    "    Tips_check = {key: [] for key in keys}\n",
    "    Liquid_check = {key: [] for key in keys}\n",
    "    Tips_volume = {key: [] for key in keys}\n",
    "\n",
    "    keys2 = ['Tips_Count', 'Liquid_Count']\n",
    "    counts_data = {key: [] for key in keys2}\n",
    "\n",
    "    server_socket = socket.socket(socket.AF_INET, socket.SOCK_STREAM)\n",
    "    port = 9999\n",
    "    server_socket.bind(('', port))\n",
    "    server_socket.listen(1)\n",
    "    print(f\"Server started on port {port}\")\n",
    "\n",
    "    cap = Helper.initialize_camera()\n",
    "    project_name='default_project'\n",
    "\n",
    "    try:\n",
    "        while True:  #Loop to accept new connections\n",
    "            client_socket, addr = server_socket.accept()\n",
    "            print(f\"Got a connection from {addr}\")\n",
    "            while True:  #Loop to handle commands from a connected client\n",
    "                command = client_socket.recv(1024).decode('utf-8').strip().lower()\n",
    "                if not command:  # Break the loop if the command is empty (client disconnected)\n",
    "                    break\n",
    "                if command == 'capture_image':\n",
    "                    #response = Helper.capture_hd_image_with_lock('default_project')\n",
    "                    response = Helper.capture_live_image(cap, project_name)\n",
    "                    client_socket.send(response.encode('utf-8'))\n",
    "\n",
    "                    predictions = best_model.predict([response], conf=0.7)\n",
    "                    Helper.save_predictions(predictions, output_folder=\"output_predictions\")\n",
    "\n",
    "                    class_counts, bounding_boxes, bounding_box_centers, liquid_height_percentages = Helper.process_predictions(predictions)\n",
    "                    tip_presence, missing_tip_positions = Helper.find_missing_tips(bounding_box_centers)\n",
    "\n",
    "                    liquid_values = liquid_height_percentages['Liquid']\n",
    "                    tip_index = 0\n",
    "\n",
    "                    #Iterate through the 'Liquid' values and assign to 'Tips_volume' based on 'tip_presence'\n",
    "                    for i, presence in enumerate(tip_presence):\n",
    "                        tip_key = f'Tip{i + 1}'\n",
    "                        if presence == 1:\n",
    "                            Tips_volume[tip_key].append(liquid_values[tip_index])\n",
    "                            tip_index += 1\n",
    "                        else:\n",
    "                            Tips_volume[tip_key].append(0)\n",
    "\n",
    "                    counts_data['Tips_Count'].append(class_counts['Tip'])\n",
    "                    counts_data['Liquid_Count'].append(class_counts['Liquid'])\n",
    "\n",
    "                    for i, presence in enumerate(tip_presence):\n",
    "                        tip_key = f'Tip{i + 1}'\n",
    "                        if presence == 1:\n",
    "                            Tips_check[tip_key].append(\"Attached\")\n",
    "                        else:\n",
    "                            Tips_check[tip_key].append(\"MISSING\")\n",
    "\n",
    "                elif command == 'shutdown_server':\n",
    "                    print(\"Shutting down server.\")\n",
    "                    server_socket.close()\n",
    "                    return Tips_check, Tips_volume, counts_data\n",
    "                    Helper.release_camera(cap)\n",
    "                else:\n",
    "                    print(f\"Unknown command: {command}\")\n",
    "    except Exception as e:\n",
    "        print(f\"Server error: {e}\")\n",
    "    finally:\n",
    "        server_socket.close()\n",
    "        print(\"Server has been shut down.\")\n",
    "        Helper.release_camera(cap)\n",
    "\n",
    "if __name__ == \"__main__\":\n",
    "    Tips_check, Tips_volume, counts_data = start_server()\n",
    "    Helper.release_camera(cap)"
   ]
  },
  {
   "cell_type": "code",
   "execution_count": 3,
   "metadata": {},
   "outputs": [],
   "source": [
    "Tips_volume \n",
    "Tips_volume1 = pd.DataFrame(Tips_volume)\n",
    "Tips_volume1.index = [f'ROW {i + 1}' for i in range(len(Tips_volume1))]\n",
    "Tips_volume1=Tips_volume1.round()\n",
    "Tips_volume1"
   ]
  },
  {
   "cell_type": "code",
   "execution_count": 4,
   "metadata": {},
   "outputs": [
    {
     "name": "stdout",
     "output_type": "stream",
     "text": [
      "Camera released\n"
     ]
    }
   ],
   "source": [
    "Tips_check = pd.DataFrame(Tips_check)\n",
    "Tips_check.index = [f'ROW {i + 1}' for i in range(len(Tips_check))]\n",
    "Tips_check"
   ]
  },
  {
   "cell_type": "code",
   "execution_count": null,
   "metadata": {},
   "outputs": [],
   "source": [
    "counts_data = pd.DataFrame(counts_data)\n",
    "counts_data.index = [f'Round {i + 1}' for i in range(len(counts_data))]\n",
    "counts_data"
   ]
  },
  {
   "cell_type": "code",
   "execution_count": null,
   "metadata": {},
   "outputs": [],
   "source": [
    "writer = pd.ExcelWriter('dataframes_combined.xlsx', engine='xlsxwriter')\n",
    "Tips_volume1.to_excel(writer, sheet_name='Tips_volume1')\n",
    "Tips_check.to_excel(writer, sheet_name='Tips_check')\n",
    "counts_data.to_excel(writer, sheet_name='counts_data')\n",
    "writer.close()\n",
    "print(\"Logs Saved\")"
   ]
  },
  {
   "cell_type": "code",
   "execution_count": null,
   "metadata": {},
   "outputs": [],
   "source": []
  },
  {
   "cell_type": "code",
   "execution_count": 29,
   "metadata": {},
   "outputs": [],
   "source": [
    "#TEST\n",
    "project_name = \"one\"\n",
    "cap = Helper.initialize_camera()\n"
   ]
  },
  {
   "cell_type": "code",
   "execution_count": 26,
   "metadata": {},
   "outputs": [
    {
     "data": {
      "text/plain": [
       "'d:\\\\Final Code\\\\Final Project\\\\Demo codes\\\\one\\\\one_20240305193938_hd.jpg'"
      ]
     },
     "execution_count": 26,
     "metadata": {},
     "output_type": "execute_result"
    },
    {
     "name": "stdout",
     "output_type": "stream",
     "text": [
      "Image captured with locked focus: d:\\Final Code\\Final Project\\Demo codes\\one\\one_20240305193938_hd.jpg\n"
     ]
    }
   ],
   "source": [
    "Helper.capture_image(cap, project_name)"
   ]
  },
  {
   "cell_type": "code",
   "execution_count": 36,
   "metadata": {},
   "outputs": [
    {
     "name": "stdout",
     "output_type": "stream",
     "text": [
      "Camera released\n"
     ]
    }
   ],
   "source": [
    "Helper.release_camera(cap)"
   ]
  },
  {
   "cell_type": "code",
   "execution_count": 31,
   "metadata": {},
   "outputs": [],
   "source": [
    "def capture_image(cap, project_name):\n",
    "    #Read the frame from the camera\n",
    "    ret, frame = cap.read()\n",
    "\n",
    "    #Check if frame is successfully captured\n",
    "    if not ret:\n",
    "        print(\"Failed to capture image\")\n",
    "        return None\n",
    "\n",
    "    #Create unique image path for each capture\n",
    "    image_path = Helper.create_project(project_name)\n",
    "\n",
    "    #Save the image to the specified path\n",
    "    cv2.imwrite(image_path, frame)\n",
    "    print(f'Image captured with locked focus: {image_path}')\n",
    "\n",
    "    return image_path\n"
   ]
  },
  {
   "cell_type": "code",
   "execution_count": 35,
   "metadata": {},
   "outputs": [
    {
     "name": "stdout",
     "output_type": "stream",
     "text": [
      "Image captured with locked focus: d:\\Final Code\\Final Project\\Demo codes\\one\\one_20240305194704_hd.jpg\n"
     ]
    }
   ],
   "source": [
    "project_name = \"one\" #change to yoru project name like PCR or anything.\n",
    "image_path = capture_image(cap, project_name)"
   ]
  },
  {
   "cell_type": "code",
   "execution_count": 62,
   "metadata": {},
   "outputs": [],
   "source": [
    "# GPT Below\n"
   ]
  },
  {
   "cell_type": "code",
   "execution_count": 6,
   "metadata": {},
   "outputs": [],
   "source": [
    "import cv2\n",
    "import os\n",
    "from datetime import datetime\n",
    "\n",
    "def create_project(project_name = 'default_project'):\n",
    "    # Join the current directory with the project name to create the project folder path\n",
    "    project_folder = os.path.join(os.path.abspath('.'), project_name)\n",
    "    # Create the project folder if it doesn't exist\n",
    "    os.makedirs(project_folder, exist_ok=True)\n",
    "    # Get the current time and format it\n",
    "    current_time = datetime.now().strftime(\"%Y%m%d%H%M%S\")\n",
    "    # Create the image name using project name and current time\n",
    "    image_name = f'{project_name}_{current_time}_hd.jpg'\n",
    "    # Join the project folder with the image name to get the full image path\n",
    "    image_path = os.path.join(project_folder, image_name)\n",
    "    # Return the image path\n",
    "    return image_path\n",
    "\n",
    "def initialize_camera():\n",
    "    # Initialize the camera\n",
    "    cap = cv2.VideoCapture(1, cv2.CAP_DSHOW)  #'0' is typically the default camera ID. mine has 3 cams attached so its 1 for me.\n",
    "    cap.set(cv2.CAP_PROP_FRAME_WIDTH, 640)  #Set the width\n",
    "    cap.set(cv2.CAP_PROP_FRAME_HEIGHT, 480)  #Set the height\n",
    "    cap.set(cv2.CAP_PROP_FOURCC, cv2.VideoWriter_fourcc(*'MJPG'))  # Set the codec\n",
    "    cap.set(cv2.CAP_PROP_AUTOFOCUS, 0)  #Turn off autofocus\n",
    "\n",
    "    #Set focus value for closer objects (adjust as needed)\n",
    "    focus_value = 50.0  #Change this value to your desired focus setting mine is best at 50mm.\n",
    "    cap.set(cv2.CAP_PROP_FOCUS, focus_value)  # Set the focus property\n",
    "\n",
    "    return cap\n",
    "\n",
    "def capture_live_image(cap, project_name):\n",
    "    #Discard any previously read frames\n",
    "    for _ in range(10):  # Read and discard 10 frames\n",
    "        cap.read()\n",
    "\n",
    "    #Read the latest frame from the camera\n",
    "    ret, frame = cap.read()\n",
    "\n",
    "    #Check if frame is successfully captured\n",
    "    if not ret:\n",
    "        print(\"Failed to capture image\")\n",
    "        return None\n",
    "\n",
    "    #Create unique image path for each capture\n",
    "    image_path = create_project(project_name)\n",
    "\n",
    "    #Save the image to the specified path\n",
    "    cv2.imwrite(image_path, frame)\n",
    "    print(f'Image captured with locked focus: {image_path}')\n",
    "\n",
    "    return image_path\n",
    "\n",
    "def release_camera(cap):\n",
    "    #Release the camera\n",
    "    cap.release()\n",
    "    print(\"Camera released\")\n",
    "\n",
    "#Example usage:\n",
    "project_name = \"one\"\n",
    "\n",
    "#Initialize the camera\n",
    "cap = initialize_camera()\n",
    "\n"
   ]
  },
  {
   "cell_type": "code",
   "execution_count": 8,
   "metadata": {},
   "outputs": [
    {
     "name": "stdout",
     "output_type": "stream",
     "text": [
      "Image captured with locked focus: d:\\Final Code\\Final Project\\Demo codes\\one\\one_20240305202249_hd.jpg\n"
     ]
    },
    {
     "data": {
      "text/plain": [
       "'d:\\\\Final Code\\\\Final Project\\\\Demo codes\\\\one\\\\one_20240305202249_hd.jpg'"
      ]
     },
     "execution_count": 8,
     "metadata": {},
     "output_type": "execute_result"
    }
   ],
   "source": [
    "capture_live_image(cap, project_name)"
   ]
  },
  {
   "cell_type": "code",
   "execution_count": 9,
   "metadata": {},
   "outputs": [
    {
     "name": "stdout",
     "output_type": "stream",
     "text": [
      "Camera released\n"
     ]
    }
   ],
   "source": [
    "release_camera(cap)"
   ]
  },
  {
   "cell_type": "code",
   "execution_count": null,
   "metadata": {},
   "outputs": [],
   "source": []
  },
  {
   "cell_type": "code",
   "execution_count": null,
   "metadata": {},
   "outputs": [],
   "source": []
  },
  {
   "cell_type": "code",
   "execution_count": null,
   "metadata": {},
   "outputs": [],
   "source": []
  },
  {
   "cell_type": "code",
   "execution_count": null,
   "metadata": {},
   "outputs": [],
   "source": []
  },
  {
   "cell_type": "code",
   "execution_count": null,
   "metadata": {},
   "outputs": [],
   "source": []
  },
  {
   "cell_type": "code",
   "execution_count": null,
   "metadata": {},
   "outputs": [],
   "source": []
  },
  {
   "cell_type": "code",
   "execution_count": null,
   "metadata": {},
   "outputs": [],
   "source": []
  },
  {
   "cell_type": "code",
   "execution_count": null,
   "metadata": {},
   "outputs": [],
   "source": []
  },
  {
   "cell_type": "code",
   "execution_count": null,
   "metadata": {},
   "outputs": [],
   "source": []
  },
  {
   "cell_type": "code",
   "execution_count": null,
   "metadata": {},
   "outputs": [],
   "source": []
  },
  {
   "cell_type": "code",
   "execution_count": null,
   "metadata": {},
   "outputs": [],
   "source": []
  },
  {
   "cell_type": "code",
   "execution_count": null,
   "metadata": {},
   "outputs": [],
   "source": []
  },
  {
   "cell_type": "code",
   "execution_count": null,
   "metadata": {},
   "outputs": [],
   "source": []
  },
  {
   "cell_type": "code",
   "execution_count": null,
   "metadata": {},
   "outputs": [],
   "source": []
  },
  {
   "cell_type": "code",
   "execution_count": null,
   "metadata": {},
   "outputs": [],
   "source": []
  },
  {
   "cell_type": "code",
   "execution_count": null,
   "metadata": {},
   "outputs": [],
   "source": []
  },
  {
   "cell_type": "code",
   "execution_count": null,
   "metadata": {},
   "outputs": [],
   "source": []
  },
  {
   "cell_type": "code",
   "execution_count": null,
   "metadata": {},
   "outputs": [],
   "source": []
  },
  {
   "cell_type": "code",
   "execution_count": null,
   "metadata": {},
   "outputs": [],
   "source": []
  },
  {
   "cell_type": "code",
   "execution_count": null,
   "metadata": {},
   "outputs": [],
   "source": []
  },
  {
   "cell_type": "code",
   "execution_count": null,
   "metadata": {},
   "outputs": [],
   "source": []
  },
  {
   "cell_type": "code",
   "execution_count": null,
   "metadata": {},
   "outputs": [],
   "source": []
  },
  {
   "cell_type": "code",
   "execution_count": null,
   "metadata": {},
   "outputs": [],
   "source": []
  },
  {
   "cell_type": "code",
   "execution_count": null,
   "metadata": {},
   "outputs": [],
   "source": []
  },
  {
   "cell_type": "code",
   "execution_count": null,
   "metadata": {},
   "outputs": [],
   "source": []
  },
  {
   "cell_type": "code",
   "execution_count": null,
   "metadata": {},
   "outputs": [],
   "source": []
  },
  {
   "cell_type": "code",
   "execution_count": null,
   "metadata": {},
   "outputs": [],
   "source": []
  },
  {
   "cell_type": "code",
   "execution_count": null,
   "metadata": {},
   "outputs": [],
   "source": []
  },
  {
   "cell_type": "code",
   "execution_count": null,
   "metadata": {},
   "outputs": [],
   "source": []
  }
 ],
 "metadata": {
  "kernelspec": {
   "display_name": "OT2",
   "language": "python",
   "name": "python3"
  },
  "language_info": {
   "codemirror_mode": {
    "name": "ipython",
    "version": 3
   },
   "file_extension": ".py",
   "mimetype": "text/x-python",
   "name": "python",
   "nbconvert_exporter": "python",
   "pygments_lexer": "ipython3",
   "version": "3.10.11"
  }
 },
 "nbformat": 4,
 "nbformat_minor": 2
}
